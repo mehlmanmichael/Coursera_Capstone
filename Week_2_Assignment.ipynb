{
  "nbformat": 4,
  "nbformat_minor": 0,
  "metadata": {
    "colab": {
      "name": "Week 2 Assignment.ipynb",
      "provenance": [],
      "authorship_tag": "ABX9TyOwNc27BbveaUpTlyVlnqvB",
      "include_colab_link": true
    },
    "kernelspec": {
      "name": "python3",
      "display_name": "Python 3"
    }
  },
  "cells": [
    {
      "cell_type": "markdown",
      "metadata": {
        "id": "view-in-github",
        "colab_type": "text"
      },
      "source": [
        "<a href=\"https://colab.research.google.com/github/mehlmanmichael/Coursera_Capstone/blob/main/Week_2_Assignment.ipynb\" target=\"_parent\"><img src=\"https://colab.research.google.com/assets/colab-badge.svg\" alt=\"Open In Colab\"/></a>"
      ]
    },
    {
      "cell_type": "markdown",
      "metadata": {
        "id": "pnb-WZnts6WO"
      },
      "source": [
        "# Setup: Import libraries and connect to Foursquare API"
      ]
    },
    {
      "cell_type": "code",
      "metadata": {
        "id": "iy2zMl8Hsw_1"
      },
      "source": [
        "import requests # library to handle requests\n",
        "import pandas as pd # library for data analsysis\n",
        "import numpy as np # library to handle data in a vectorized manner\n",
        "import random # library for random number generation\n",
        "from geopy.geocoders import Nominatim # module to convert an address into latitude and longitude values\n",
        "from IPython.display import Image \n",
        "from IPython.core.display import HTML \n",
        "import folium # plotting library\n",
        "import json\n",
        "from sklearn.cluster import KMeans\n",
        "from bs4 import BeautifulSoup\n",
        "#!pip install geocoder #Was trying to use geocoder but kept returning 'none' so I won't install it\n",
        "#import geocoder"
      ],
      "execution_count": 1,
      "outputs": []
    },
    {
      "cell_type": "code",
      "metadata": {
        "colab": {
          "base_uri": "https://localhost:8080/"
        },
        "id": "W4i6pLostD4R",
        "outputId": "09b8fb7c-a690-4962-e330-93beca376c8c"
      },
      "source": [
        "# Foursquare API credentials are stored on my google drive in a .py file.  Load them here.\n",
        "from google.colab import drive\n",
        "drive.mount('/content/drive')\n",
        "import os\n",
        "import sys\n",
        "libpath = '/content/drive/My Drive/Programming/Python/Coursera Data Science Capstone'\n",
        "sys.path.append(libpath)\n",
        "import fsa\n",
        "drive.flush_and_unmount()\n",
        "#print(fsa.CLIENT_ID+fsa.CLIENT_SECRET+fsa.ACCESS_TOKEN)\n",
        "VERSION = '20180604'\n",
        "LIMIT = 100"
      ],
      "execution_count": 2,
      "outputs": [
        {
          "output_type": "stream",
          "text": [
            "Mounted at /content/drive\n"
          ],
          "name": "stdout"
        }
      ]
    },
    {
      "cell_type": "markdown",
      "metadata": {
        "id": "w-fuo_JxuQZu"
      },
      "source": [
        "# Question 1: Scrape wikipedia and clean up dataframe"
      ]
    },
    {
      "cell_type": "code",
      "metadata": {
        "colab": {
          "base_uri": "https://localhost:8080/"
        },
        "id": "609XzkpYtYH0",
        "outputId": "21ca3c49-0f34-49fe-c3ab-2bfda1a527c1"
      },
      "source": [
        "soup = BeautifulSoup(requests.get('https://en.wikipedia.org/wiki/List_of_postal_codes_of_Canada:_M').text,'lxml')\n",
        "table = soup.find('table',{'class':'wikitable sortable'})\n",
        "df = pd.read_html(str(table))[0] #create the df\n",
        "df = df[df['Borough'] != 'Not assigned'] #get rid of not assigned boroughs\n",
        "df.rename(columns = {'Neighbourhood':'Neighborhood'}, inplace=True) #spell neighborhood in the american fashion so I avoid mistakes later!\n",
        "df['Neighborhood'] = np.where(df['Neighborhood'] == 'Not assigned', df['Borough'], df['Neighborhood']) #borough but not neighborhood then neighborhood = borough\n",
        "df = df.reset_index(drop=True)\n",
        "print(df.head())\n",
        "print(df.shape)"
      ],
      "execution_count": 14,
      "outputs": [
        {
          "output_type": "stream",
          "text": [
            "  Postal Code           Borough                                 Neighborhood\n",
            "0         M3A        North York                                    Parkwoods\n",
            "1         M4A        North York                             Victoria Village\n",
            "2         M5A  Downtown Toronto                    Regent Park, Harbourfront\n",
            "3         M6A        North York             Lawrence Manor, Lawrence Heights\n",
            "4         M7A  Downtown Toronto  Queen's Park, Ontario Provincial Government\n",
            "(103, 3)\n"
          ],
          "name": "stdout"
        }
      ]
    },
    {
      "cell_type": "markdown",
      "metadata": {
        "id": "WRBmvvu6zPkX"
      },
      "source": [
        "# Question 2: Add lat and long info"
      ]
    },
    {
      "cell_type": "markdown",
      "metadata": {
        "id": "Bqo5AOfC4GTo"
      },
      "source": [
        "First I tried to do this with geocoder (as below), but it would not return any lat/lon coords. So I will just use the csv as below."
      ]
    },
    {
      "cell_type": "code",
      "metadata": {
        "id": "-gXWaKfEu_8N"
      },
      "source": [
        "df['Lat'] = df['Lon'] = np.nan\n",
        "for index, row in df.head().iterrows():\n",
        "  coords = None\n",
        "  while (coords is None):\n",
        "    coords = geocoder.google('{}, Toronto, Ontario'.format(row['Postal Code'])).latlng\n",
        "  print(coords)\n",
        "# Going to just download the csv... geocoder is not repsonding."
      ],
      "execution_count": null,
      "outputs": []
    },
    {
      "cell_type": "code",
      "metadata": {
        "colab": {
          "base_uri": "https://localhost:8080/",
          "height": 204
        },
        "id": "ZwmhsGni1i4a",
        "outputId": "d502b5c5-199e-449c-fae3-90dbf88bc07b"
      },
      "source": [
        "pc = pd.read_csv('https://cocl.us/Geospatial_data')\n",
        "df = df.join(pc.set_index('Postal Code'), on='Postal Code')\n",
        "df.head()"
      ],
      "execution_count": 15,
      "outputs": [
        {
          "output_type": "execute_result",
          "data": {
            "text/html": [
              "<div>\n",
              "<style scoped>\n",
              "    .dataframe tbody tr th:only-of-type {\n",
              "        vertical-align: middle;\n",
              "    }\n",
              "\n",
              "    .dataframe tbody tr th {\n",
              "        vertical-align: top;\n",
              "    }\n",
              "\n",
              "    .dataframe thead th {\n",
              "        text-align: right;\n",
              "    }\n",
              "</style>\n",
              "<table border=\"1\" class=\"dataframe\">\n",
              "  <thead>\n",
              "    <tr style=\"text-align: right;\">\n",
              "      <th></th>\n",
              "      <th>Postal Code</th>\n",
              "      <th>Borough</th>\n",
              "      <th>Neighborhood</th>\n",
              "      <th>Latitude</th>\n",
              "      <th>Longitude</th>\n",
              "    </tr>\n",
              "  </thead>\n",
              "  <tbody>\n",
              "    <tr>\n",
              "      <th>0</th>\n",
              "      <td>M3A</td>\n",
              "      <td>North York</td>\n",
              "      <td>Parkwoods</td>\n",
              "      <td>43.753259</td>\n",
              "      <td>-79.329656</td>\n",
              "    </tr>\n",
              "    <tr>\n",
              "      <th>1</th>\n",
              "      <td>M4A</td>\n",
              "      <td>North York</td>\n",
              "      <td>Victoria Village</td>\n",
              "      <td>43.725882</td>\n",
              "      <td>-79.315572</td>\n",
              "    </tr>\n",
              "    <tr>\n",
              "      <th>2</th>\n",
              "      <td>M5A</td>\n",
              "      <td>Downtown Toronto</td>\n",
              "      <td>Regent Park, Harbourfront</td>\n",
              "      <td>43.654260</td>\n",
              "      <td>-79.360636</td>\n",
              "    </tr>\n",
              "    <tr>\n",
              "      <th>3</th>\n",
              "      <td>M6A</td>\n",
              "      <td>North York</td>\n",
              "      <td>Lawrence Manor, Lawrence Heights</td>\n",
              "      <td>43.718518</td>\n",
              "      <td>-79.464763</td>\n",
              "    </tr>\n",
              "    <tr>\n",
              "      <th>4</th>\n",
              "      <td>M7A</td>\n",
              "      <td>Downtown Toronto</td>\n",
              "      <td>Queen's Park, Ontario Provincial Government</td>\n",
              "      <td>43.662301</td>\n",
              "      <td>-79.389494</td>\n",
              "    </tr>\n",
              "  </tbody>\n",
              "</table>\n",
              "</div>"
            ],
            "text/plain": [
              "  Postal Code           Borough  ...   Latitude  Longitude\n",
              "0         M3A        North York  ...  43.753259 -79.329656\n",
              "1         M4A        North York  ...  43.725882 -79.315572\n",
              "2         M5A  Downtown Toronto  ...  43.654260 -79.360636\n",
              "3         M6A        North York  ...  43.718518 -79.464763\n",
              "4         M7A  Downtown Toronto  ...  43.662301 -79.389494\n",
              "\n",
              "[5 rows x 5 columns]"
            ]
          },
          "metadata": {
            "tags": []
          },
          "execution_count": 15
        }
      ]
    },
    {
      "cell_type": "markdown",
      "metadata": {
        "id": "K_6Ci-J30VxL"
      },
      "source": [
        "# Cluster with Foursquare data, map, etc.!"
      ]
    },
    {
      "cell_type": "markdown",
      "metadata": {
        "id": "cvKk2WScEGpr"
      },
      "source": [
        "Limit to borough's containing the word Toronto"
      ]
    },
    {
      "cell_type": "code",
      "metadata": {
        "colab": {
          "base_uri": "https://localhost:8080/"
        },
        "id": "sXme_-5D5SNo",
        "outputId": "8637d900-b695-4ef9-c516-26f7bd5cbf59"
      },
      "source": [
        "df = df[df['Borough'].str.contains('Toronto')]\n",
        "print(df.shape)"
      ],
      "execution_count": 30,
      "outputs": [
        {
          "output_type": "stream",
          "text": [
            "(39, 5)\n"
          ],
          "name": "stdout"
        }
      ]
    },
    {
      "cell_type": "markdown",
      "metadata": {
        "id": "lpAHsXyaEMV6"
      },
      "source": [
        "Define a function to loop over all neighborhoods and get venues"
      ]
    },
    {
      "cell_type": "code",
      "metadata": {
        "id": "kkuq58Uh4APq"
      },
      "source": [
        "def getNearbyVenues(names, latitudes, longitudes, radius=500):\n",
        "    venues_list=[]\n",
        "    for name, lat, lng in zip(names, latitudes, longitudes):\n",
        "        url = 'https://api.foursquare.com/v2/venues/explore?&client_id={}&client_secret={}&v={}&ll={},{}&radius={}&limit={}'.format(fsa.CLIENT_ID, fsa.CLIENT_SECRET, VERSION, lat, lng, radius, LIMIT)\n",
        "        results = requests.get(url).json()[\"response\"]['groups'][0]['items']\n",
        "        venues_list.append([(name, lat, lng, v['venue']['name'], v['venue']['location']['lat'], v['venue']['location']['lng'], v['venue']['categories'][0]['name']) for v in results])\n",
        "    nearby_venues = pd.DataFrame([item for venue_list in venues_list for item in venue_list])\n",
        "    nearby_venues.columns = ['Neighborhood', 'Neighborhood Latitude', 'Neighborhood Longitude', 'Venue', 'Venue Latitude', 'Venue Longitude', 'Venue Category']\n",
        "    return(nearby_venues)"
      ],
      "execution_count": 31,
      "outputs": []
    },
    {
      "cell_type": "markdown",
      "metadata": {
        "id": "A-xyrCWHEaAd"
      },
      "source": [
        "Run the get venues function (but don't do this too often due to quotas!)"
      ]
    },
    {
      "cell_type": "code",
      "metadata": {
        "id": "F7WlnugZ08FC"
      },
      "source": [
        "venues = getNearbyVenues(names=df['Neighborhood'], latitudes=df['Latitude'], longitudes=df['Longitude'])"
      ],
      "execution_count": 32,
      "outputs": []
    },
    {
      "cell_type": "markdown",
      "metadata": {
        "id": "NwHnoB1oEfuG"
      },
      "source": [
        "Perform onehot encoding on the venues and average per neihborhood so we can feed it into the clustering algo"
      ]
    },
    {
      "cell_type": "code",
      "metadata": {
        "colab": {
          "base_uri": "https://localhost:8080/",
          "height": 457
        },
        "id": "7cC1zYxG1HOu",
        "outputId": "fe8963c4-6a49-4e83-c08e-8c4bfff78255"
      },
      "source": [
        "onehot = pd.get_dummies(venues[['Venue Category']], prefix=\"\", prefix_sep=\"\")\n",
        "onehot['Neighborhood'] = venues['Neighborhood'] \n",
        "fixed_columns = [onehot.columns[-1]] + list(onehot.columns[:-1])\n",
        "onehot = onehot[fixed_columns]\n",
        "grouped = onehot.groupby('Neighborhood').mean().reset_index()\n",
        "grouped.head()"
      ],
      "execution_count": 57,
      "outputs": [
        {
          "output_type": "execute_result",
          "data": {
            "text/html": [
              "<div>\n",
              "<style scoped>\n",
              "    .dataframe tbody tr th:only-of-type {\n",
              "        vertical-align: middle;\n",
              "    }\n",
              "\n",
              "    .dataframe tbody tr th {\n",
              "        vertical-align: top;\n",
              "    }\n",
              "\n",
              "    .dataframe thead th {\n",
              "        text-align: right;\n",
              "    }\n",
              "</style>\n",
              "<table border=\"1\" class=\"dataframe\">\n",
              "  <thead>\n",
              "    <tr style=\"text-align: right;\">\n",
              "      <th></th>\n",
              "      <th>Neighborhood</th>\n",
              "      <th>Yoga Studio</th>\n",
              "      <th>Adult Boutique</th>\n",
              "      <th>Airport</th>\n",
              "      <th>Airport Food Court</th>\n",
              "      <th>Airport Gate</th>\n",
              "      <th>Airport Lounge</th>\n",
              "      <th>Airport Service</th>\n",
              "      <th>Airport Terminal</th>\n",
              "      <th>American Restaurant</th>\n",
              "      <th>Antique Shop</th>\n",
              "      <th>Aquarium</th>\n",
              "      <th>Art Gallery</th>\n",
              "      <th>Art Museum</th>\n",
              "      <th>Arts &amp; Crafts Store</th>\n",
              "      <th>Asian Restaurant</th>\n",
              "      <th>Athletics &amp; Sports</th>\n",
              "      <th>Auto Workshop</th>\n",
              "      <th>BBQ Joint</th>\n",
              "      <th>Baby Store</th>\n",
              "      <th>Bagel Shop</th>\n",
              "      <th>Bakery</th>\n",
              "      <th>Bank</th>\n",
              "      <th>Bar</th>\n",
              "      <th>Baseball Stadium</th>\n",
              "      <th>Basketball Stadium</th>\n",
              "      <th>Beach</th>\n",
              "      <th>Bed &amp; Breakfast</th>\n",
              "      <th>Beer Bar</th>\n",
              "      <th>Beer Store</th>\n",
              "      <th>Belgian Restaurant</th>\n",
              "      <th>Bistro</th>\n",
              "      <th>Board Shop</th>\n",
              "      <th>Boat or Ferry</th>\n",
              "      <th>Bookstore</th>\n",
              "      <th>Boutique</th>\n",
              "      <th>Brazilian Restaurant</th>\n",
              "      <th>Breakfast Spot</th>\n",
              "      <th>Brewery</th>\n",
              "      <th>Bubble Tea Shop</th>\n",
              "      <th>...</th>\n",
              "      <th>Scenic Lookout</th>\n",
              "      <th>Sculpture Garden</th>\n",
              "      <th>Seafood Restaurant</th>\n",
              "      <th>Shoe Store</th>\n",
              "      <th>Shopping Mall</th>\n",
              "      <th>Skate Park</th>\n",
              "      <th>Skating Rink</th>\n",
              "      <th>Smoke Shop</th>\n",
              "      <th>Smoothie Shop</th>\n",
              "      <th>Snack Place</th>\n",
              "      <th>Soup Place</th>\n",
              "      <th>Spa</th>\n",
              "      <th>Speakeasy</th>\n",
              "      <th>Sporting Goods Shop</th>\n",
              "      <th>Sports Bar</th>\n",
              "      <th>Stadium</th>\n",
              "      <th>Stationery Store</th>\n",
              "      <th>Steakhouse</th>\n",
              "      <th>Strip Club</th>\n",
              "      <th>Supermarket</th>\n",
              "      <th>Sushi Restaurant</th>\n",
              "      <th>Swim School</th>\n",
              "      <th>Taco Place</th>\n",
              "      <th>Tailor Shop</th>\n",
              "      <th>Taiwanese Restaurant</th>\n",
              "      <th>Tanning Salon</th>\n",
              "      <th>Tea Room</th>\n",
              "      <th>Tennis Court</th>\n",
              "      <th>Thai Restaurant</th>\n",
              "      <th>Theater</th>\n",
              "      <th>Theme Restaurant</th>\n",
              "      <th>Tibetan Restaurant</th>\n",
              "      <th>Toy / Game Store</th>\n",
              "      <th>Trail</th>\n",
              "      <th>Train Station</th>\n",
              "      <th>Vegetarian / Vegan Restaurant</th>\n",
              "      <th>Video Game Store</th>\n",
              "      <th>Vietnamese Restaurant</th>\n",
              "      <th>Wine Bar</th>\n",
              "      <th>Wine Shop</th>\n",
              "    </tr>\n",
              "  </thead>\n",
              "  <tbody>\n",
              "    <tr>\n",
              "      <th>0</th>\n",
              "      <td>Berczy Park</td>\n",
              "      <td>0.000000</td>\n",
              "      <td>0.0</td>\n",
              "      <td>0.000000</td>\n",
              "      <td>0.000000</td>\n",
              "      <td>0.000000</td>\n",
              "      <td>0.000000</td>\n",
              "      <td>0.000000</td>\n",
              "      <td>0.000000</td>\n",
              "      <td>0.0</td>\n",
              "      <td>0.0</td>\n",
              "      <td>0.0</td>\n",
              "      <td>0.017241</td>\n",
              "      <td>0.000000</td>\n",
              "      <td>0.0</td>\n",
              "      <td>0.0</td>\n",
              "      <td>0.0</td>\n",
              "      <td>0.000000</td>\n",
              "      <td>0.0</td>\n",
              "      <td>0.0</td>\n",
              "      <td>0.017241</td>\n",
              "      <td>0.034483</td>\n",
              "      <td>0.000000</td>\n",
              "      <td>0.000000</td>\n",
              "      <td>0.0</td>\n",
              "      <td>0.017241</td>\n",
              "      <td>0.017241</td>\n",
              "      <td>0.0</td>\n",
              "      <td>0.034483</td>\n",
              "      <td>0.0</td>\n",
              "      <td>0.0</td>\n",
              "      <td>0.017241</td>\n",
              "      <td>0.0</td>\n",
              "      <td>0.000000</td>\n",
              "      <td>0.0</td>\n",
              "      <td>0.000000</td>\n",
              "      <td>0.0</td>\n",
              "      <td>0.000000</td>\n",
              "      <td>0.000000</td>\n",
              "      <td>0.000000</td>\n",
              "      <td>...</td>\n",
              "      <td>0.0</td>\n",
              "      <td>0.000000</td>\n",
              "      <td>0.034483</td>\n",
              "      <td>0.0</td>\n",
              "      <td>0.017241</td>\n",
              "      <td>0.000000</td>\n",
              "      <td>0.0</td>\n",
              "      <td>0.0</td>\n",
              "      <td>0.0</td>\n",
              "      <td>0.0</td>\n",
              "      <td>0.0</td>\n",
              "      <td>0.000000</td>\n",
              "      <td>0.0</td>\n",
              "      <td>0.017241</td>\n",
              "      <td>0.0</td>\n",
              "      <td>0.000000</td>\n",
              "      <td>0.0</td>\n",
              "      <td>0.017241</td>\n",
              "      <td>0.0</td>\n",
              "      <td>0.0</td>\n",
              "      <td>0.017241</td>\n",
              "      <td>0.0</td>\n",
              "      <td>0.0</td>\n",
              "      <td>0.017241</td>\n",
              "      <td>0.0</td>\n",
              "      <td>0.0</td>\n",
              "      <td>0.0</td>\n",
              "      <td>0.0</td>\n",
              "      <td>0.017241</td>\n",
              "      <td>0.0</td>\n",
              "      <td>0.0</td>\n",
              "      <td>0.0</td>\n",
              "      <td>0.0</td>\n",
              "      <td>0.0</td>\n",
              "      <td>0.0</td>\n",
              "      <td>0.017241</td>\n",
              "      <td>0.0</td>\n",
              "      <td>0.0</td>\n",
              "      <td>0.000000</td>\n",
              "      <td>0.0</td>\n",
              "    </tr>\n",
              "    <tr>\n",
              "      <th>1</th>\n",
              "      <td>Brockton, Parkdale Village, Exhibition Place</td>\n",
              "      <td>0.000000</td>\n",
              "      <td>0.0</td>\n",
              "      <td>0.000000</td>\n",
              "      <td>0.000000</td>\n",
              "      <td>0.000000</td>\n",
              "      <td>0.000000</td>\n",
              "      <td>0.000000</td>\n",
              "      <td>0.000000</td>\n",
              "      <td>0.0</td>\n",
              "      <td>0.0</td>\n",
              "      <td>0.0</td>\n",
              "      <td>0.000000</td>\n",
              "      <td>0.000000</td>\n",
              "      <td>0.0</td>\n",
              "      <td>0.0</td>\n",
              "      <td>0.0</td>\n",
              "      <td>0.000000</td>\n",
              "      <td>0.0</td>\n",
              "      <td>0.0</td>\n",
              "      <td>0.000000</td>\n",
              "      <td>0.045455</td>\n",
              "      <td>0.000000</td>\n",
              "      <td>0.045455</td>\n",
              "      <td>0.0</td>\n",
              "      <td>0.000000</td>\n",
              "      <td>0.000000</td>\n",
              "      <td>0.0</td>\n",
              "      <td>0.000000</td>\n",
              "      <td>0.0</td>\n",
              "      <td>0.0</td>\n",
              "      <td>0.000000</td>\n",
              "      <td>0.0</td>\n",
              "      <td>0.000000</td>\n",
              "      <td>0.0</td>\n",
              "      <td>0.000000</td>\n",
              "      <td>0.0</td>\n",
              "      <td>0.090909</td>\n",
              "      <td>0.000000</td>\n",
              "      <td>0.000000</td>\n",
              "      <td>...</td>\n",
              "      <td>0.0</td>\n",
              "      <td>0.000000</td>\n",
              "      <td>0.000000</td>\n",
              "      <td>0.0</td>\n",
              "      <td>0.000000</td>\n",
              "      <td>0.000000</td>\n",
              "      <td>0.0</td>\n",
              "      <td>0.0</td>\n",
              "      <td>0.0</td>\n",
              "      <td>0.0</td>\n",
              "      <td>0.0</td>\n",
              "      <td>0.000000</td>\n",
              "      <td>0.0</td>\n",
              "      <td>0.000000</td>\n",
              "      <td>0.0</td>\n",
              "      <td>0.045455</td>\n",
              "      <td>0.0</td>\n",
              "      <td>0.000000</td>\n",
              "      <td>0.0</td>\n",
              "      <td>0.0</td>\n",
              "      <td>0.000000</td>\n",
              "      <td>0.0</td>\n",
              "      <td>0.0</td>\n",
              "      <td>0.000000</td>\n",
              "      <td>0.0</td>\n",
              "      <td>0.0</td>\n",
              "      <td>0.0</td>\n",
              "      <td>0.0</td>\n",
              "      <td>0.000000</td>\n",
              "      <td>0.0</td>\n",
              "      <td>0.0</td>\n",
              "      <td>0.0</td>\n",
              "      <td>0.0</td>\n",
              "      <td>0.0</td>\n",
              "      <td>0.0</td>\n",
              "      <td>0.000000</td>\n",
              "      <td>0.0</td>\n",
              "      <td>0.0</td>\n",
              "      <td>0.000000</td>\n",
              "      <td>0.0</td>\n",
              "    </tr>\n",
              "    <tr>\n",
              "      <th>2</th>\n",
              "      <td>Business reply mail Processing Centre, South C...</td>\n",
              "      <td>0.058824</td>\n",
              "      <td>0.0</td>\n",
              "      <td>0.000000</td>\n",
              "      <td>0.000000</td>\n",
              "      <td>0.000000</td>\n",
              "      <td>0.000000</td>\n",
              "      <td>0.000000</td>\n",
              "      <td>0.000000</td>\n",
              "      <td>0.0</td>\n",
              "      <td>0.0</td>\n",
              "      <td>0.0</td>\n",
              "      <td>0.000000</td>\n",
              "      <td>0.000000</td>\n",
              "      <td>0.0</td>\n",
              "      <td>0.0</td>\n",
              "      <td>0.0</td>\n",
              "      <td>0.058824</td>\n",
              "      <td>0.0</td>\n",
              "      <td>0.0</td>\n",
              "      <td>0.000000</td>\n",
              "      <td>0.000000</td>\n",
              "      <td>0.000000</td>\n",
              "      <td>0.000000</td>\n",
              "      <td>0.0</td>\n",
              "      <td>0.000000</td>\n",
              "      <td>0.000000</td>\n",
              "      <td>0.0</td>\n",
              "      <td>0.000000</td>\n",
              "      <td>0.0</td>\n",
              "      <td>0.0</td>\n",
              "      <td>0.000000</td>\n",
              "      <td>0.0</td>\n",
              "      <td>0.000000</td>\n",
              "      <td>0.0</td>\n",
              "      <td>0.000000</td>\n",
              "      <td>0.0</td>\n",
              "      <td>0.000000</td>\n",
              "      <td>0.058824</td>\n",
              "      <td>0.000000</td>\n",
              "      <td>...</td>\n",
              "      <td>0.0</td>\n",
              "      <td>0.000000</td>\n",
              "      <td>0.000000</td>\n",
              "      <td>0.0</td>\n",
              "      <td>0.000000</td>\n",
              "      <td>0.058824</td>\n",
              "      <td>0.0</td>\n",
              "      <td>0.0</td>\n",
              "      <td>0.0</td>\n",
              "      <td>0.0</td>\n",
              "      <td>0.0</td>\n",
              "      <td>0.000000</td>\n",
              "      <td>0.0</td>\n",
              "      <td>0.000000</td>\n",
              "      <td>0.0</td>\n",
              "      <td>0.000000</td>\n",
              "      <td>0.0</td>\n",
              "      <td>0.000000</td>\n",
              "      <td>0.0</td>\n",
              "      <td>0.0</td>\n",
              "      <td>0.000000</td>\n",
              "      <td>0.0</td>\n",
              "      <td>0.0</td>\n",
              "      <td>0.000000</td>\n",
              "      <td>0.0</td>\n",
              "      <td>0.0</td>\n",
              "      <td>0.0</td>\n",
              "      <td>0.0</td>\n",
              "      <td>0.000000</td>\n",
              "      <td>0.0</td>\n",
              "      <td>0.0</td>\n",
              "      <td>0.0</td>\n",
              "      <td>0.0</td>\n",
              "      <td>0.0</td>\n",
              "      <td>0.0</td>\n",
              "      <td>0.000000</td>\n",
              "      <td>0.0</td>\n",
              "      <td>0.0</td>\n",
              "      <td>0.000000</td>\n",
              "      <td>0.0</td>\n",
              "    </tr>\n",
              "    <tr>\n",
              "      <th>3</th>\n",
              "      <td>CN Tower, King and Spadina, Railway Lands, Har...</td>\n",
              "      <td>0.000000</td>\n",
              "      <td>0.0</td>\n",
              "      <td>0.058824</td>\n",
              "      <td>0.058824</td>\n",
              "      <td>0.058824</td>\n",
              "      <td>0.117647</td>\n",
              "      <td>0.117647</td>\n",
              "      <td>0.117647</td>\n",
              "      <td>0.0</td>\n",
              "      <td>0.0</td>\n",
              "      <td>0.0</td>\n",
              "      <td>0.000000</td>\n",
              "      <td>0.000000</td>\n",
              "      <td>0.0</td>\n",
              "      <td>0.0</td>\n",
              "      <td>0.0</td>\n",
              "      <td>0.000000</td>\n",
              "      <td>0.0</td>\n",
              "      <td>0.0</td>\n",
              "      <td>0.000000</td>\n",
              "      <td>0.000000</td>\n",
              "      <td>0.000000</td>\n",
              "      <td>0.058824</td>\n",
              "      <td>0.0</td>\n",
              "      <td>0.000000</td>\n",
              "      <td>0.000000</td>\n",
              "      <td>0.0</td>\n",
              "      <td>0.000000</td>\n",
              "      <td>0.0</td>\n",
              "      <td>0.0</td>\n",
              "      <td>0.000000</td>\n",
              "      <td>0.0</td>\n",
              "      <td>0.058824</td>\n",
              "      <td>0.0</td>\n",
              "      <td>0.058824</td>\n",
              "      <td>0.0</td>\n",
              "      <td>0.000000</td>\n",
              "      <td>0.000000</td>\n",
              "      <td>0.000000</td>\n",
              "      <td>...</td>\n",
              "      <td>0.0</td>\n",
              "      <td>0.058824</td>\n",
              "      <td>0.000000</td>\n",
              "      <td>0.0</td>\n",
              "      <td>0.000000</td>\n",
              "      <td>0.000000</td>\n",
              "      <td>0.0</td>\n",
              "      <td>0.0</td>\n",
              "      <td>0.0</td>\n",
              "      <td>0.0</td>\n",
              "      <td>0.0</td>\n",
              "      <td>0.000000</td>\n",
              "      <td>0.0</td>\n",
              "      <td>0.000000</td>\n",
              "      <td>0.0</td>\n",
              "      <td>0.000000</td>\n",
              "      <td>0.0</td>\n",
              "      <td>0.000000</td>\n",
              "      <td>0.0</td>\n",
              "      <td>0.0</td>\n",
              "      <td>0.000000</td>\n",
              "      <td>0.0</td>\n",
              "      <td>0.0</td>\n",
              "      <td>0.000000</td>\n",
              "      <td>0.0</td>\n",
              "      <td>0.0</td>\n",
              "      <td>0.0</td>\n",
              "      <td>0.0</td>\n",
              "      <td>0.000000</td>\n",
              "      <td>0.0</td>\n",
              "      <td>0.0</td>\n",
              "      <td>0.0</td>\n",
              "      <td>0.0</td>\n",
              "      <td>0.0</td>\n",
              "      <td>0.0</td>\n",
              "      <td>0.000000</td>\n",
              "      <td>0.0</td>\n",
              "      <td>0.0</td>\n",
              "      <td>0.000000</td>\n",
              "      <td>0.0</td>\n",
              "    </tr>\n",
              "    <tr>\n",
              "      <th>4</th>\n",
              "      <td>Central Bay Street</td>\n",
              "      <td>0.015873</td>\n",
              "      <td>0.0</td>\n",
              "      <td>0.000000</td>\n",
              "      <td>0.000000</td>\n",
              "      <td>0.000000</td>\n",
              "      <td>0.000000</td>\n",
              "      <td>0.000000</td>\n",
              "      <td>0.000000</td>\n",
              "      <td>0.0</td>\n",
              "      <td>0.0</td>\n",
              "      <td>0.0</td>\n",
              "      <td>0.000000</td>\n",
              "      <td>0.015873</td>\n",
              "      <td>0.0</td>\n",
              "      <td>0.0</td>\n",
              "      <td>0.0</td>\n",
              "      <td>0.000000</td>\n",
              "      <td>0.0</td>\n",
              "      <td>0.0</td>\n",
              "      <td>0.000000</td>\n",
              "      <td>0.000000</td>\n",
              "      <td>0.015873</td>\n",
              "      <td>0.000000</td>\n",
              "      <td>0.0</td>\n",
              "      <td>0.000000</td>\n",
              "      <td>0.000000</td>\n",
              "      <td>0.0</td>\n",
              "      <td>0.000000</td>\n",
              "      <td>0.0</td>\n",
              "      <td>0.0</td>\n",
              "      <td>0.000000</td>\n",
              "      <td>0.0</td>\n",
              "      <td>0.000000</td>\n",
              "      <td>0.0</td>\n",
              "      <td>0.000000</td>\n",
              "      <td>0.0</td>\n",
              "      <td>0.000000</td>\n",
              "      <td>0.000000</td>\n",
              "      <td>0.031746</td>\n",
              "      <td>...</td>\n",
              "      <td>0.0</td>\n",
              "      <td>0.000000</td>\n",
              "      <td>0.015873</td>\n",
              "      <td>0.0</td>\n",
              "      <td>0.000000</td>\n",
              "      <td>0.000000</td>\n",
              "      <td>0.0</td>\n",
              "      <td>0.0</td>\n",
              "      <td>0.0</td>\n",
              "      <td>0.0</td>\n",
              "      <td>0.0</td>\n",
              "      <td>0.015873</td>\n",
              "      <td>0.0</td>\n",
              "      <td>0.000000</td>\n",
              "      <td>0.0</td>\n",
              "      <td>0.000000</td>\n",
              "      <td>0.0</td>\n",
              "      <td>0.000000</td>\n",
              "      <td>0.0</td>\n",
              "      <td>0.0</td>\n",
              "      <td>0.015873</td>\n",
              "      <td>0.0</td>\n",
              "      <td>0.0</td>\n",
              "      <td>0.000000</td>\n",
              "      <td>0.0</td>\n",
              "      <td>0.0</td>\n",
              "      <td>0.0</td>\n",
              "      <td>0.0</td>\n",
              "      <td>0.031746</td>\n",
              "      <td>0.0</td>\n",
              "      <td>0.0</td>\n",
              "      <td>0.0</td>\n",
              "      <td>0.0</td>\n",
              "      <td>0.0</td>\n",
              "      <td>0.0</td>\n",
              "      <td>0.015873</td>\n",
              "      <td>0.0</td>\n",
              "      <td>0.0</td>\n",
              "      <td>0.015873</td>\n",
              "      <td>0.0</td>\n",
              "    </tr>\n",
              "  </tbody>\n",
              "</table>\n",
              "<p>5 rows × 236 columns</p>\n",
              "</div>"
            ],
            "text/plain": [
              "                                        Neighborhood  ...  Wine Shop\n",
              "0                                        Berczy Park  ...        0.0\n",
              "1       Brockton, Parkdale Village, Exhibition Place  ...        0.0\n",
              "2  Business reply mail Processing Centre, South C...  ...        0.0\n",
              "3  CN Tower, King and Spadina, Railway Lands, Har...  ...        0.0\n",
              "4                                 Central Bay Street  ...        0.0\n",
              "\n",
              "[5 rows x 236 columns]"
            ]
          },
          "metadata": {
            "tags": []
          },
          "execution_count": 57
        }
      ]
    },
    {
      "cell_type": "markdown",
      "metadata": {
        "id": "yJA8hxvDEs_F"
      },
      "source": [
        "Define a function to limit the number of most common venues per hood"
      ]
    },
    {
      "cell_type": "code",
      "metadata": {
        "id": "Tbh1oHGT3oBo"
      },
      "source": [
        "def return_most_common_venues(row, num_top_venues):\n",
        "    row_categories = row.iloc[1:]\n",
        "    row_categories_sorted = row_categories.sort_values(ascending=False)\n",
        "    return row_categories_sorted.index.values[0:num_top_venues]"
      ],
      "execution_count": 34,
      "outputs": []
    },
    {
      "cell_type": "markdown",
      "metadata": {
        "id": "dWzozy2RE44S"
      },
      "source": [
        "* Choose a number of top venues (5)\n",
        "* Choose a number of clusters (6)\n",
        "* Create a new df with generic column titles for \"top venues\"\n",
        "* Limit the top venues for each hood and populate them into the new df\n",
        "* run clustering\n",
        "* insert the cluster labels back into the neighborhood df"
      ]
    },
    {
      "cell_type": "code",
      "metadata": {
        "id": "PIFBP1EQ3ppc"
      },
      "source": [
        "num_top_venues = 5\n",
        "n_clusters = 6\n",
        "columns = ['Neighborhood']\n",
        "for ind in np.arange(num_top_venues):\n",
        "    columns.append('{} Most Common Venue'.format(ind+1))\n",
        "neighborhoods_venues_sorted = pd.DataFrame(columns=columns)\n",
        "neighborhoods_venues_sorted['Neighborhood'] = grouped['Neighborhood']\n",
        "for ind in np.arange(grouped.shape[0]):\n",
        "    neighborhoods_venues_sorted.iloc[ind, 1:] = return_most_common_venues(grouped.iloc[ind, :], num_top_venues)\n",
        "grouped_clustering = grouped.drop('Neighborhood', 1)\n",
        "kmeans = KMeans(n_clusters=n_clusters, random_state=0).fit(grouped_clustering)#fit clusters\n",
        "neighborhoods_venues_sorted.insert(0, 'Cluster Labels', kmeans.labels_)"
      ],
      "execution_count": 54,
      "outputs": []
    },
    {
      "cell_type": "markdown",
      "metadata": {
        "id": "1OdGohhkFhNb"
      },
      "source": [
        "* Merge this new sorted venues df back into the original df so we have lat/long, etc.\n",
        "* see if it looks right"
      ]
    },
    {
      "cell_type": "code",
      "metadata": {
        "colab": {
          "base_uri": "https://localhost:8080/",
          "height": 289
        },
        "id": "winhR5tw3QuH",
        "outputId": "82eb1c46-e87e-4382-86a9-824212deef69"
      },
      "source": [
        "merged = df\n",
        "merged = merged.join(neighborhoods_venues_sorted.set_index('Neighborhood'), on='Neighborhood')\n",
        "merged.head()"
      ],
      "execution_count": 55,
      "outputs": [
        {
          "output_type": "execute_result",
          "data": {
            "text/html": [
              "<div>\n",
              "<style scoped>\n",
              "    .dataframe tbody tr th:only-of-type {\n",
              "        vertical-align: middle;\n",
              "    }\n",
              "\n",
              "    .dataframe tbody tr th {\n",
              "        vertical-align: top;\n",
              "    }\n",
              "\n",
              "    .dataframe thead th {\n",
              "        text-align: right;\n",
              "    }\n",
              "</style>\n",
              "<table border=\"1\" class=\"dataframe\">\n",
              "  <thead>\n",
              "    <tr style=\"text-align: right;\">\n",
              "      <th></th>\n",
              "      <th>Postal Code</th>\n",
              "      <th>Borough</th>\n",
              "      <th>Neighborhood</th>\n",
              "      <th>Latitude</th>\n",
              "      <th>Longitude</th>\n",
              "      <th>Cluster Labels</th>\n",
              "      <th>1 Most Common Venue</th>\n",
              "      <th>2 Most Common Venue</th>\n",
              "      <th>3 Most Common Venue</th>\n",
              "      <th>4 Most Common Venue</th>\n",
              "      <th>5 Most Common Venue</th>\n",
              "    </tr>\n",
              "  </thead>\n",
              "  <tbody>\n",
              "    <tr>\n",
              "      <th>2</th>\n",
              "      <td>M5A</td>\n",
              "      <td>Downtown Toronto</td>\n",
              "      <td>Regent Park, Harbourfront</td>\n",
              "      <td>43.654260</td>\n",
              "      <td>-79.360636</td>\n",
              "      <td>0</td>\n",
              "      <td>Coffee Shop</td>\n",
              "      <td>Bakery</td>\n",
              "      <td>Park</td>\n",
              "      <td>Café</td>\n",
              "      <td>Pub</td>\n",
              "    </tr>\n",
              "    <tr>\n",
              "      <th>4</th>\n",
              "      <td>M7A</td>\n",
              "      <td>Downtown Toronto</td>\n",
              "      <td>Queen's Park, Ontario Provincial Government</td>\n",
              "      <td>43.662301</td>\n",
              "      <td>-79.389494</td>\n",
              "      <td>0</td>\n",
              "      <td>Coffee Shop</td>\n",
              "      <td>Sushi Restaurant</td>\n",
              "      <td>Yoga Studio</td>\n",
              "      <td>Bank</td>\n",
              "      <td>Beer Bar</td>\n",
              "    </tr>\n",
              "    <tr>\n",
              "      <th>9</th>\n",
              "      <td>M5B</td>\n",
              "      <td>Downtown Toronto</td>\n",
              "      <td>Garden District, Ryerson</td>\n",
              "      <td>43.657162</td>\n",
              "      <td>-79.378937</td>\n",
              "      <td>2</td>\n",
              "      <td>Coffee Shop</td>\n",
              "      <td>Clothing Store</td>\n",
              "      <td>Café</td>\n",
              "      <td>Bubble Tea Shop</td>\n",
              "      <td>Hotel</td>\n",
              "    </tr>\n",
              "    <tr>\n",
              "      <th>15</th>\n",
              "      <td>M5C</td>\n",
              "      <td>Downtown Toronto</td>\n",
              "      <td>St. James Town</td>\n",
              "      <td>43.651494</td>\n",
              "      <td>-79.375418</td>\n",
              "      <td>2</td>\n",
              "      <td>Coffee Shop</td>\n",
              "      <td>Café</td>\n",
              "      <td>Cocktail Bar</td>\n",
              "      <td>American Restaurant</td>\n",
              "      <td>Gym</td>\n",
              "    </tr>\n",
              "    <tr>\n",
              "      <th>19</th>\n",
              "      <td>M4E</td>\n",
              "      <td>East Toronto</td>\n",
              "      <td>The Beaches</td>\n",
              "      <td>43.676357</td>\n",
              "      <td>-79.293031</td>\n",
              "      <td>2</td>\n",
              "      <td>Pub</td>\n",
              "      <td>Health Food Store</td>\n",
              "      <td>Trail</td>\n",
              "      <td>Wine Shop</td>\n",
              "      <td>Dog Run</td>\n",
              "    </tr>\n",
              "  </tbody>\n",
              "</table>\n",
              "</div>"
            ],
            "text/plain": [
              "   Postal Code           Borough  ...  4 Most Common Venue  5 Most Common Venue\n",
              "2          M5A  Downtown Toronto  ...                 Café                  Pub\n",
              "4          M7A  Downtown Toronto  ...                 Bank             Beer Bar\n",
              "9          M5B  Downtown Toronto  ...      Bubble Tea Shop                Hotel\n",
              "15         M5C  Downtown Toronto  ...  American Restaurant                  Gym\n",
              "19         M4E      East Toronto  ...            Wine Shop              Dog Run\n",
              "\n",
              "[5 rows x 11 columns]"
            ]
          },
          "metadata": {
            "tags": []
          },
          "execution_count": 55
        }
      ]
    },
    {
      "cell_type": "markdown",
      "metadata": {
        "id": "XBlZhhhFF8dm"
      },
      "source": [
        "Plot it on a map!  Cluster 2 is very common.  \n",
        "**Note:** map does not show up in github.  Click [here](https://colab.research.google.com/drive/1e8Nys-FYMJgIsP5F4lgbA0JLfCH_T6Qw?usp=sharing) for colab version with map."
      ]
    },
    {
      "cell_type": "code",
      "metadata": {
        "colab": {
          "base_uri": "https://localhost:8080/",
          "height": 952
        },
        "id": "SmV39-xm3_4b",
        "outputId": "e8d510bc-5f53-4aa4-84ce-ec95034c4787"
      },
      "source": [
        "geolocator = Nominatim(user_agent='explorer')\n",
        "location = geolocator.geocode('Toronto, Ontario')\n",
        "latitude = location.latitude\n",
        "longitude = location.longitude\n",
        "map_clusters = folium.Map(location=[latitude, longitude], zoom_start=12)\n",
        "import matplotlib.cm as cm\n",
        "import matplotlib.colors as colors\n",
        "x = np.arange(n_clusters)#5 clusters\n",
        "ys = [i + x + (i*x)**2 for i in range(n_clusters)]\n",
        "colors_array = cm.rainbow(np.linspace(0, 1, len(ys)))\n",
        "rainbow = [colors.rgb2hex(i) for i in colors_array]\n",
        "for lat, lon, poi, cluster in zip(merged['Latitude'], merged['Longitude'], merged['Neighborhood'], merged['Cluster Labels']):\n",
        "    label = folium.Popup(str(poi) + ' Cluster ' + str(cluster), parse_html=True)\n",
        "    folium.CircleMarker([lat, lon], radius=5, popup=label, color=rainbow[cluster-1], fill=True, fill_color=rainbow[cluster-1], fill_opacity=0.7).add_to(map_clusters)\n",
        "map_clusters"
      ],
      "execution_count": 87,
      "outputs": [
        {
          "output_type": "execute_result",
          "data": {
            "text/html": [
              "<div style=\"width:100%;\"><div style=\"position:relative;width:100%;height:0;padding-bottom:60%;\"><span style=\"color:#565656\">Make this Notebook Trusted to load map: File -> Trust Notebook</span><iframe src=\"about:blank\" style=\"position:absolute;width:100%;height:100%;left:0;top:0;border:none !important;\" data-html=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 onload=\"this.contentDocument.open();this.contentDocument.write(atob(this.getAttribute('data-html')));this.contentDocument.close();\" allowfullscreen webkitallowfullscreen mozallowfullscreen></iframe></div></div>"
            ],
            "text/plain": [
              "<folium.folium.Map at 0x7fdf8416f5f8>"
            ]
          },
          "metadata": {
            "tags": []
          },
          "execution_count": 87
        }
      ]
    },
    {
      "cell_type": "markdown",
      "metadata": {
        "id": "mCV5ybdJGG37"
      },
      "source": [
        "For good measure, print out the most common \"top\" venues in each hood to get a feel for them"
      ]
    },
    {
      "cell_type": "code",
      "metadata": {
        "colab": {
          "base_uri": "https://localhost:8080/"
        },
        "id": "YvEXyuhO9j1i",
        "outputId": "ac0f1063-fa11-488c-de83-128a5fa8345a"
      },
      "source": [
        "for i in merged['Cluster Labels'].unique():\n",
        "  print('Top venues in cluster '+str(i)+' are:')\n",
        "  print(merged[merged['Cluster Labels'] == i].iloc[:, 6:].describe(include='all').loc['top'])"
      ],
      "execution_count": 86,
      "outputs": [
        {
          "output_type": "stream",
          "text": [
            "Top venues in cluster 0 are:\n",
            "1 Most Common Venue         Coffee Shop\n",
            "2 Most Common Venue                Café\n",
            "3 Most Common Venue         Yoga Studio\n",
            "4 Most Common Venue    Sushi Restaurant\n",
            "5 Most Common Venue                 Pub\n",
            "Name: top, dtype: object\n",
            "Top venues in cluster 2 are:\n",
            "1 Most Common Venue           Coffee Shop\n",
            "2 Most Common Venue                  Café\n",
            "3 Most Common Venue                  Café\n",
            "4 Most Common Venue            Restaurant\n",
            "5 Most Common Venue    Italian Restaurant\n",
            "Name: top, dtype: object\n",
            "Top venues in cluster 1 are:\n",
            "1 Most Common Venue           Business Service\n",
            "2 Most Common Venue                   Bus Line\n",
            "3 Most Common Venue                Swim School\n",
            "4 Most Common Venue                       Park\n",
            "5 Most Common Venue    Comfort Food Restaurant\n",
            "Name: top, dtype: object\n",
            "Top venues in cluster 4 are:\n",
            "1 Most Common Venue      Home Service\n",
            "2 Most Common Venue    Ice Cream Shop\n",
            "3 Most Common Venue            Garden\n",
            "4 Most Common Venue           Dog Run\n",
            "5 Most Common Venue      Dessert Shop\n",
            "Name: top, dtype: object\n",
            "Top venues in cluster 5 are:\n",
            "1 Most Common Venue            Bus Line\n",
            "2 Most Common Venue               Trail\n",
            "3 Most Common Venue       Jewelry Store\n",
            "4 Most Common Venue    Sushi Restaurant\n",
            "5 Most Common Venue           Wine Shop\n",
            "Name: top, dtype: object\n",
            "Top venues in cluster 3 are:\n",
            "1 Most Common Venue              Park\n",
            "2 Most Common Venue              Park\n",
            "3 Most Common Venue             Trail\n",
            "4 Most Common Venue     Deli / Bodega\n",
            "5 Most Common Venue    Discount Store\n",
            "Name: top, dtype: object\n"
          ],
          "name": "stdout"
        }
      ]
    }
  ]
}
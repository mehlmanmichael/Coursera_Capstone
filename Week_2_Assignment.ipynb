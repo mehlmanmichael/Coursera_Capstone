{
  "nbformat": 4,
  "nbformat_minor": 0,
  "metadata": {
    "colab": {
      "name": "Week 2 Assignment.ipynb",
      "provenance": [],
      "authorship_tag": "ABX9TyN+sAt3CLkiDCuflJD/62O0"
    },
    "kernelspec": {
      "name": "python3",
      "display_name": "Python 3"
    }
  },
  "cells": [
    {
      "cell_type": "markdown",
      "metadata": {
        "id": "pnb-WZnts6WO"
      },
      "source": [
        "# Setup: Import libraries and connect to Foursquare API"
      ]
    },
    {
      "cell_type": "code",
      "metadata": {
        "id": "iy2zMl8Hsw_1"
      },
      "source": [
        "import requests # library to handle requests\n",
        "import pandas as pd # library for data analsysis\n",
        "import numpy as np # library to handle data in a vectorized manner\n",
        "import random # library for random number generation\n",
        "from geopy.geocoders import Nominatim # module to convert an address into latitude and longitude values\n",
        "from IPython.display import Image \n",
        "from IPython.core.display import HTML \n",
        "import folium # plotting library\n",
        "import json\n",
        "from sklearn.cluster import KMeans\n",
        "from bs4 import BeautifulSoup"
      ],
      "execution_count": 7,
      "outputs": []
    },
    {
      "cell_type": "code",
      "metadata": {
        "colab": {
          "base_uri": "https://localhost:8080/"
        },
        "id": "W4i6pLostD4R",
        "outputId": "8538cca4-0789-4e0d-dadc-d0d6a401aaa4"
      },
      "source": [
        "# Foursquare API credentials are stored on my google drive in a .py file.  Load them here.\n",
        "from google.colab import drive\n",
        "drive.mount('/content/drive')\n",
        "import os\n",
        "import sys\n",
        "libpath = '/content/drive/My Drive/Programming/Python/Coursera Data Science Capstone'\n",
        "sys.path.append(libpath)\n",
        "import fsa\n",
        "drive.flush_and_unmount()\n",
        "#print(fsa.CLIENT_ID+fsa.CLIENT_SECRET+fsa.ACCESS_TOKEN)\n",
        "VERSION = '20180604'\n",
        "LIMIT = 100"
      ],
      "execution_count": 6,
      "outputs": [
        {
          "output_type": "stream",
          "text": [
            "Mounted at /content/drive\n"
          ],
          "name": "stdout"
        }
      ]
    },
    {
      "cell_type": "markdown",
      "metadata": {
        "id": "w-fuo_JxuQZu"
      },
      "source": [
        "# Question 1: Scrape wikipedia and clean up dataframe"
      ]
    },
    {
      "cell_type": "code",
      "metadata": {
        "colab": {
          "base_uri": "https://localhost:8080/"
        },
        "id": "609XzkpYtYH0",
        "outputId": "71488d97-298d-4c83-c0d7-7f1cc7e21955"
      },
      "source": [
        "soup = BeautifulSoup(requests.get('https://en.wikipedia.org/wiki/List_of_postal_codes_of_Canada:_M').text,'lxml')\n",
        "table = soup.find('table',{'class':'wikitable sortable'})\n",
        "df = pd.read_html(str(table))[0] #create the df\n",
        "df = df[df['Borough'] != 'Not assigned'] #get rid of not assigned boroughs\n",
        "df['Neighbourhood'] = np.where(df['Neighbourhood'] == 'Not assigned', df['Borough'], df['Neighbourhood']) #borough but not neighborhood then neighborhood = borough\n",
        "print(df.head())\n",
        "print(df.shape)"
      ],
      "execution_count": 21,
      "outputs": [
        {
          "output_type": "stream",
          "text": [
            "  Postal Code           Borough                                Neighbourhood\n",
            "2         M3A        North York                                    Parkwoods\n",
            "3         M4A        North York                             Victoria Village\n",
            "4         M5A  Downtown Toronto                    Regent Park, Harbourfront\n",
            "5         M6A        North York             Lawrence Manor, Lawrence Heights\n",
            "6         M7A  Downtown Toronto  Queen's Park, Ontario Provincial Government\n",
            "(103, 3)\n"
          ],
          "name": "stdout"
        }
      ]
    },
    {
      "cell_type": "markdown",
      "metadata": {
        "id": "WRBmvvu6zPkX"
      },
      "source": [
        "# Question 2: Add lat and long info"
      ]
    },
    {
      "cell_type": "code",
      "metadata": {
        "id": "-gXWaKfEu_8N"
      },
      "source": [
        ""
      ],
      "execution_count": null,
      "outputs": []
    }
  ]
}
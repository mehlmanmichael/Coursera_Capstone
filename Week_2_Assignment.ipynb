{
  "nbformat": 4,
  "nbformat_minor": 0,
  "metadata": {
    "colab": {
      "name": "Week 2 Assignment.ipynb",
      "provenance": [],
      "authorship_tag": "ABX9TyPvyoagXTEArE72BB/BJYu7",
      "include_colab_link": true
    },
    "kernelspec": {
      "name": "python3",
      "display_name": "Python 3"
    }
  },
  "cells": [
    {
      "cell_type": "markdown",
      "metadata": {
        "id": "view-in-github",
        "colab_type": "text"
      },
      "source": [
        "<a href=\"https://colab.research.google.com/github/mehlmanmichael/Coursera_Capstone/blob/main/Week_2_Assignment.ipynb\" target=\"_parent\"><img src=\"https://colab.research.google.com/assets/colab-badge.svg\" alt=\"Open In Colab\"/></a>"
      ]
    },
    {
      "cell_type": "markdown",
      "metadata": {
        "id": "pnb-WZnts6WO"
      },
      "source": [
        "# Setup: Import libraries and connect to Foursquare API"
      ]
    },
    {
      "cell_type": "code",
      "metadata": {
        "id": "iy2zMl8Hsw_1"
      },
      "source": [
        "import requests # library to handle requests\n",
        "import pandas as pd # library for data analsysis\n",
        "import numpy as np # library to handle data in a vectorized manner\n",
        "import random # library for random number generation\n",
        "from geopy.geocoders import Nominatim # module to convert an address into latitude and longitude values\n",
        "from IPython.display import Image \n",
        "from IPython.core.display import HTML \n",
        "import folium # plotting library\n",
        "import json\n",
        "from sklearn.cluster import KMeans\n",
        "from bs4 import BeautifulSoup\n",
        "#!pip install geocoder #Was trying to use geocoder but kept returning 'none' so I won't install it\n",
        "#import geocoder"
      ],
      "execution_count": 1,
      "outputs": []
    },
    {
      "cell_type": "code",
      "metadata": {
        "colab": {
          "base_uri": "https://localhost:8080/"
        },
        "id": "W4i6pLostD4R",
        "outputId": "09b8fb7c-a690-4962-e330-93beca376c8c"
      },
      "source": [
        "# Foursquare API credentials are stored on my google drive in a .py file.  Load them here.\n",
        "from google.colab import drive\n",
        "drive.mount('/content/drive')\n",
        "import os\n",
        "import sys\n",
        "libpath = '/content/drive/My Drive/Programming/Python/Coursera Data Science Capstone'\n",
        "sys.path.append(libpath)\n",
        "import fsa\n",
        "drive.flush_and_unmount()\n",
        "#print(fsa.CLIENT_ID+fsa.CLIENT_SECRET+fsa.ACCESS_TOKEN)\n",
        "VERSION = '20180604'\n",
        "LIMIT = 100"
      ],
      "execution_count": 2,
      "outputs": [
        {
          "output_type": "stream",
          "text": [
            "Mounted at /content/drive\n"
          ],
          "name": "stdout"
        }
      ]
    },
    {
      "cell_type": "markdown",
      "metadata": {
        "id": "w-fuo_JxuQZu"
      },
      "source": [
        "# Question 1: Scrape wikipedia and clean up dataframe"
      ]
    },
    {
      "cell_type": "code",
      "metadata": {
        "colab": {
          "base_uri": "https://localhost:8080/"
        },
        "id": "609XzkpYtYH0",
        "outputId": "21ca3c49-0f34-49fe-c3ab-2bfda1a527c1"
      },
      "source": [
        "soup = BeautifulSoup(requests.get('https://en.wikipedia.org/wiki/List_of_postal_codes_of_Canada:_M').text,'lxml')\n",
        "table = soup.find('table',{'class':'wikitable sortable'})\n",
        "df = pd.read_html(str(table))[0] #create the df\n",
        "df = df[df['Borough'] != 'Not assigned'] #get rid of not assigned boroughs\n",
        "df.rename(columns = {'Neighbourhood':'Neighborhood'}, inplace=True) #spell neighborhood in the american fashion so I avoid mistakes later!\n",
        "df['Neighborhood'] = np.where(df['Neighborhood'] == 'Not assigned', df['Borough'], df['Neighborhood']) #borough but not neighborhood then neighborhood = borough\n",
        "df = df.reset_index(drop=True)\n",
        "print(df.head())\n",
        "print(df.shape)"
      ],
      "execution_count": 14,
      "outputs": [
        {
          "output_type": "stream",
          "text": [
            "  Postal Code           Borough                                 Neighborhood\n",
            "0         M3A        North York                                    Parkwoods\n",
            "1         M4A        North York                             Victoria Village\n",
            "2         M5A  Downtown Toronto                    Regent Park, Harbourfront\n",
            "3         M6A        North York             Lawrence Manor, Lawrence Heights\n",
            "4         M7A  Downtown Toronto  Queen's Park, Ontario Provincial Government\n",
            "(103, 3)\n"
          ],
          "name": "stdout"
        }
      ]
    },
    {
      "cell_type": "markdown",
      "metadata": {
        "id": "WRBmvvu6zPkX"
      },
      "source": [
        "# Question 2: Add lat and long info"
      ]
    },
    {
      "cell_type": "markdown",
      "metadata": {
        "id": "Bqo5AOfC4GTo"
      },
      "source": [
        "First I tried to do this with geocoder (as below), but it would not return any lat/lon coords. So I will just use the csv as below."
      ]
    },
    {
      "cell_type": "code",
      "metadata": {
        "id": "-gXWaKfEu_8N"
      },
      "source": [
        "df['Lat'] = df['Lon'] = np.nan\n",
        "for index, row in df.head().iterrows():\n",
        "  coords = None\n",
        "  while (coords is None):\n",
        "    coords = geocoder.google('{}, Toronto, Ontario'.format(row['Postal Code'])).latlng\n",
        "  print(coords)\n",
        "# Going to just download the csv... geocoder is not repsonding."
      ],
      "execution_count": null,
      "outputs": []
    },
    {
      "cell_type": "code",
      "metadata": {
        "colab": {
          "base_uri": "https://localhost:8080/",
          "height": 204
        },
        "id": "ZwmhsGni1i4a",
        "outputId": "d502b5c5-199e-449c-fae3-90dbf88bc07b"
      },
      "source": [
        "pc = pd.read_csv('https://cocl.us/Geospatial_data')\n",
        "df = df.join(pc.set_index('Postal Code'), on='Postal Code')\n",
        "df.head()"
      ],
      "execution_count": 15,
      "outputs": [
        {
          "output_type": "execute_result",
          "data": {
            "text/html": [
              "<div>\n",
              "<style scoped>\n",
              "    .dataframe tbody tr th:only-of-type {\n",
              "        vertical-align: middle;\n",
              "    }\n",
              "\n",
              "    .dataframe tbody tr th {\n",
              "        vertical-align: top;\n",
              "    }\n",
              "\n",
              "    .dataframe thead th {\n",
              "        text-align: right;\n",
              "    }\n",
              "</style>\n",
              "<table border=\"1\" class=\"dataframe\">\n",
              "  <thead>\n",
              "    <tr style=\"text-align: right;\">\n",
              "      <th></th>\n",
              "      <th>Postal Code</th>\n",
              "      <th>Borough</th>\n",
              "      <th>Neighborhood</th>\n",
              "      <th>Latitude</th>\n",
              "      <th>Longitude</th>\n",
              "    </tr>\n",
              "  </thead>\n",
              "  <tbody>\n",
              "    <tr>\n",
              "      <th>0</th>\n",
              "      <td>M3A</td>\n",
              "      <td>North York</td>\n",
              "      <td>Parkwoods</td>\n",
              "      <td>43.753259</td>\n",
              "      <td>-79.329656</td>\n",
              "    </tr>\n",
              "    <tr>\n",
              "      <th>1</th>\n",
              "      <td>M4A</td>\n",
              "      <td>North York</td>\n",
              "      <td>Victoria Village</td>\n",
              "      <td>43.725882</td>\n",
              "      <td>-79.315572</td>\n",
              "    </tr>\n",
              "    <tr>\n",
              "      <th>2</th>\n",
              "      <td>M5A</td>\n",
              "      <td>Downtown Toronto</td>\n",
              "      <td>Regent Park, Harbourfront</td>\n",
              "      <td>43.654260</td>\n",
              "      <td>-79.360636</td>\n",
              "    </tr>\n",
              "    <tr>\n",
              "      <th>3</th>\n",
              "      <td>M6A</td>\n",
              "      <td>North York</td>\n",
              "      <td>Lawrence Manor, Lawrence Heights</td>\n",
              "      <td>43.718518</td>\n",
              "      <td>-79.464763</td>\n",
              "    </tr>\n",
              "    <tr>\n",
              "      <th>4</th>\n",
              "      <td>M7A</td>\n",
              "      <td>Downtown Toronto</td>\n",
              "      <td>Queen's Park, Ontario Provincial Government</td>\n",
              "      <td>43.662301</td>\n",
              "      <td>-79.389494</td>\n",
              "    </tr>\n",
              "  </tbody>\n",
              "</table>\n",
              "</div>"
            ],
            "text/plain": [
              "  Postal Code           Borough  ...   Latitude  Longitude\n",
              "0         M3A        North York  ...  43.753259 -79.329656\n",
              "1         M4A        North York  ...  43.725882 -79.315572\n",
              "2         M5A  Downtown Toronto  ...  43.654260 -79.360636\n",
              "3         M6A        North York  ...  43.718518 -79.464763\n",
              "4         M7A  Downtown Toronto  ...  43.662301 -79.389494\n",
              "\n",
              "[5 rows x 5 columns]"
            ]
          },
          "metadata": {
            "tags": []
          },
          "execution_count": 15
        }
      ]
    },
    {
      "cell_type": "markdown",
      "metadata": {
        "id": "K_6Ci-J30VxL"
      },
      "source": [
        "# Cluster with Foursquare data, map, etc.!"
      ]
    },
    {
      "cell_type": "markdown",
      "metadata": {
        "id": "cvKk2WScEGpr"
      },
      "source": [
        "Limit to borough's containing the word Toronto"
      ]
    },
    {
      "cell_type": "code",
      "metadata": {
        "colab": {
          "base_uri": "https://localhost:8080/"
        },
        "id": "sXme_-5D5SNo",
        "outputId": "8637d900-b695-4ef9-c516-26f7bd5cbf59"
      },
      "source": [
        "df = df[df['Borough'].str.contains('Toronto')]\n",
        "print(df.shape)"
      ],
      "execution_count": 30,
      "outputs": [
        {
          "output_type": "stream",
          "text": [
            "(39, 5)\n"
          ],
          "name": "stdout"
        }
      ]
    },
    {
      "cell_type": "markdown",
      "metadata": {
        "id": "lpAHsXyaEMV6"
      },
      "source": [
        "Define a function to loop over all neighborhoods and get venues"
      ]
    },
    {
      "cell_type": "code",
      "metadata": {
        "id": "kkuq58Uh4APq"
      },
      "source": [
        "def getNearbyVenues(names, latitudes, longitudes, radius=500):\n",
        "    venues_list=[]\n",
        "    for name, lat, lng in zip(names, latitudes, longitudes):\n",
        "        url = 'https://api.foursquare.com/v2/venues/explore?&client_id={}&client_secret={}&v={}&ll={},{}&radius={}&limit={}'.format(fsa.CLIENT_ID, fsa.CLIENT_SECRET, VERSION, lat, lng, radius, LIMIT)\n",
        "        results = requests.get(url).json()[\"response\"]['groups'][0]['items']\n",
        "        venues_list.append([(name, lat, lng, v['venue']['name'], v['venue']['location']['lat'], v['venue']['location']['lng'], v['venue']['categories'][0]['name']) for v in results])\n",
        "    nearby_venues = pd.DataFrame([item for venue_list in venues_list for item in venue_list])\n",
        "    nearby_venues.columns = ['Neighborhood', 'Neighborhood Latitude', 'Neighborhood Longitude', 'Venue', 'Venue Latitude', 'Venue Longitude', 'Venue Category']\n",
        "    return(nearby_venues)"
      ],
      "execution_count": 89,
      "outputs": []
    },
    {
      "cell_type": "markdown",
      "metadata": {
        "id": "A-xyrCWHEaAd"
      },
      "source": [
        "Run the get venues function (but don't do this too often due to quotas!)"
      ]
    },
    {
      "cell_type": "code",
      "metadata": {
        "id": "F7WlnugZ08FC"
      },
      "source": [
        "venues = getNearbyVenues(names=df['Neighborhood'], latitudes=df['Latitude'], longitudes=df['Longitude'])"
      ],
      "execution_count": 32,
      "outputs": []
    },
    {
      "cell_type": "markdown",
      "metadata": {
        "id": "NwHnoB1oEfuG"
      },
      "source": [
        "Perform onehot encoding on the venues and average per neihborhood so we can feed it into the clustering algo"
      ]
    },
    {
      "cell_type": "code",
      "metadata": {
        "colab": {
          "base_uri": "https://localhost:8080/",
          "height": 457
        },
        "id": "7cC1zYxG1HOu",
        "outputId": "6538cf50-6669-4e17-d829-7918b7ff4f4c"
      },
      "source": [
        "onehot = pd.get_dummies(venues[['Venue Category']], prefix=\"\", prefix_sep=\"\")\n",
        "onehot['Neighborhood'] = venues['Neighborhood'] \n",
        "fixed_columns = [onehot.columns[-1]] + list(onehot.columns[:-1])\n",
        "onehot = onehot[fixed_columns]\n",
        "grouped = onehot.groupby('Neighborhood').mean().reset_index()\n",
        "grouped.head()"
      ],
      "execution_count": 90,
      "outputs": [
        {
          "output_type": "execute_result",
          "data": {
            "text/html": [
              "<div>\n",
              "<style scoped>\n",
              "    .dataframe tbody tr th:only-of-type {\n",
              "        vertical-align: middle;\n",
              "    }\n",
              "\n",
              "    .dataframe tbody tr th {\n",
              "        vertical-align: top;\n",
              "    }\n",
              "\n",
              "    .dataframe thead th {\n",
              "        text-align: right;\n",
              "    }\n",
              "</style>\n",
              "<table border=\"1\" class=\"dataframe\">\n",
              "  <thead>\n",
              "    <tr style=\"text-align: right;\">\n",
              "      <th></th>\n",
              "      <th>Neighborhood</th>\n",
              "      <th>Yoga Studio</th>\n",
              "      <th>Adult Boutique</th>\n",
              "      <th>Airport</th>\n",
              "      <th>Airport Food Court</th>\n",
              "      <th>Airport Gate</th>\n",
              "      <th>Airport Lounge</th>\n",
              "      <th>Airport Service</th>\n",
              "      <th>Airport Terminal</th>\n",
              "      <th>American Restaurant</th>\n",
              "      <th>Antique Shop</th>\n",
              "      <th>Aquarium</th>\n",
              "      <th>Art Gallery</th>\n",
              "      <th>Art Museum</th>\n",
              "      <th>Arts &amp; Crafts Store</th>\n",
              "      <th>Asian Restaurant</th>\n",
              "      <th>Athletics &amp; Sports</th>\n",
              "      <th>Auto Workshop</th>\n",
              "      <th>BBQ Joint</th>\n",
              "      <th>Baby Store</th>\n",
              "      <th>Bagel Shop</th>\n",
              "      <th>Bakery</th>\n",
              "      <th>Bank</th>\n",
              "      <th>Bar</th>\n",
              "      <th>Baseball Stadium</th>\n",
              "      <th>Basketball Stadium</th>\n",
              "      <th>Beach</th>\n",
              "      <th>Bed &amp; Breakfast</th>\n",
              "      <th>Beer Bar</th>\n",
              "      <th>Beer Store</th>\n",
              "      <th>Belgian Restaurant</th>\n",
              "      <th>Bistro</th>\n",
              "      <th>Board Shop</th>\n",
              "      <th>Boat or Ferry</th>\n",
              "      <th>Bookstore</th>\n",
              "      <th>Boutique</th>\n",
              "      <th>Brazilian Restaurant</th>\n",
              "      <th>Breakfast Spot</th>\n",
              "      <th>Brewery</th>\n",
              "      <th>Bubble Tea Shop</th>\n",
              "      <th>...</th>\n",
              "      <th>Scenic Lookout</th>\n",
              "      <th>Sculpture Garden</th>\n",
              "      <th>Seafood Restaurant</th>\n",
              "      <th>Shoe Store</th>\n",
              "      <th>Shopping Mall</th>\n",
              "      <th>Skate Park</th>\n",
              "      <th>Skating Rink</th>\n",
              "      <th>Smoke Shop</th>\n",
              "      <th>Smoothie Shop</th>\n",
              "      <th>Snack Place</th>\n",
              "      <th>Soup Place</th>\n",
              "      <th>Spa</th>\n",
              "      <th>Speakeasy</th>\n",
              "      <th>Sporting Goods Shop</th>\n",
              "      <th>Sports Bar</th>\n",
              "      <th>Stadium</th>\n",
              "      <th>Stationery Store</th>\n",
              "      <th>Steakhouse</th>\n",
              "      <th>Strip Club</th>\n",
              "      <th>Supermarket</th>\n",
              "      <th>Sushi Restaurant</th>\n",
              "      <th>Swim School</th>\n",
              "      <th>Taco Place</th>\n",
              "      <th>Tailor Shop</th>\n",
              "      <th>Taiwanese Restaurant</th>\n",
              "      <th>Tanning Salon</th>\n",
              "      <th>Tea Room</th>\n",
              "      <th>Tennis Court</th>\n",
              "      <th>Thai Restaurant</th>\n",
              "      <th>Theater</th>\n",
              "      <th>Theme Restaurant</th>\n",
              "      <th>Tibetan Restaurant</th>\n",
              "      <th>Toy / Game Store</th>\n",
              "      <th>Trail</th>\n",
              "      <th>Train Station</th>\n",
              "      <th>Vegetarian / Vegan Restaurant</th>\n",
              "      <th>Video Game Store</th>\n",
              "      <th>Vietnamese Restaurant</th>\n",
              "      <th>Wine Bar</th>\n",
              "      <th>Wine Shop</th>\n",
              "    </tr>\n",
              "  </thead>\n",
              "  <tbody>\n",
              "    <tr>\n",
              "      <th>0</th>\n",
              "      <td>Berczy Park</td>\n",
              "      <td>0.000000</td>\n",
              "      <td>0.0</td>\n",
              "      <td>0.000000</td>\n",
              "      <td>0.000000</td>\n",
              "      <td>0.000000</td>\n",
              "      <td>0.000000</td>\n",
              "      <td>0.000000</td>\n",
              "      <td>0.000000</td>\n",
              "      <td>0.0</td>\n",
              "      <td>0.0</td>\n",
              "      <td>0.0</td>\n",
              "      <td>0.017241</td>\n",
              "      <td>0.000000</td>\n",
              "      <td>0.0</td>\n",
              "      <td>0.0</td>\n",
              "      <td>0.0</td>\n",
              "      <td>0.000000</td>\n",
              "      <td>0.0</td>\n",
              "      <td>0.0</td>\n",
              "      <td>0.017241</td>\n",
              "      <td>0.034483</td>\n",
              "      <td>0.000000</td>\n",
              "      <td>0.000000</td>\n",
              "      <td>0.0</td>\n",
              "      <td>0.017241</td>\n",
              "      <td>0.017241</td>\n",
              "      <td>0.0</td>\n",
              "      <td>0.034483</td>\n",
              "      <td>0.0</td>\n",
              "      <td>0.0</td>\n",
              "      <td>0.017241</td>\n",
              "      <td>0.0</td>\n",
              "      <td>0.000000</td>\n",
              "      <td>0.0</td>\n",
              "      <td>0.000000</td>\n",
              "      <td>0.0</td>\n",
              "      <td>0.000000</td>\n",
              "      <td>0.000000</td>\n",
              "      <td>0.000000</td>\n",
              "      <td>...</td>\n",
              "      <td>0.0</td>\n",
              "      <td>0.000000</td>\n",
              "      <td>0.034483</td>\n",
              "      <td>0.0</td>\n",
              "      <td>0.017241</td>\n",
              "      <td>0.000000</td>\n",
              "      <td>0.0</td>\n",
              "      <td>0.0</td>\n",
              "      <td>0.0</td>\n",
              "      <td>0.0</td>\n",
              "      <td>0.0</td>\n",
              "      <td>0.000000</td>\n",
              "      <td>0.0</td>\n",
              "      <td>0.017241</td>\n",
              "      <td>0.0</td>\n",
              "      <td>0.000000</td>\n",
              "      <td>0.0</td>\n",
              "      <td>0.017241</td>\n",
              "      <td>0.0</td>\n",
              "      <td>0.0</td>\n",
              "      <td>0.017241</td>\n",
              "      <td>0.0</td>\n",
              "      <td>0.0</td>\n",
              "      <td>0.017241</td>\n",
              "      <td>0.0</td>\n",
              "      <td>0.0</td>\n",
              "      <td>0.0</td>\n",
              "      <td>0.0</td>\n",
              "      <td>0.017241</td>\n",
              "      <td>0.0</td>\n",
              "      <td>0.0</td>\n",
              "      <td>0.0</td>\n",
              "      <td>0.0</td>\n",
              "      <td>0.0</td>\n",
              "      <td>0.0</td>\n",
              "      <td>0.017241</td>\n",
              "      <td>0.0</td>\n",
              "      <td>0.0</td>\n",
              "      <td>0.000000</td>\n",
              "      <td>0.0</td>\n",
              "    </tr>\n",
              "    <tr>\n",
              "      <th>1</th>\n",
              "      <td>Brockton, Parkdale Village, Exhibition Place</td>\n",
              "      <td>0.000000</td>\n",
              "      <td>0.0</td>\n",
              "      <td>0.000000</td>\n",
              "      <td>0.000000</td>\n",
              "      <td>0.000000</td>\n",
              "      <td>0.000000</td>\n",
              "      <td>0.000000</td>\n",
              "      <td>0.000000</td>\n",
              "      <td>0.0</td>\n",
              "      <td>0.0</td>\n",
              "      <td>0.0</td>\n",
              "      <td>0.000000</td>\n",
              "      <td>0.000000</td>\n",
              "      <td>0.0</td>\n",
              "      <td>0.0</td>\n",
              "      <td>0.0</td>\n",
              "      <td>0.000000</td>\n",
              "      <td>0.0</td>\n",
              "      <td>0.0</td>\n",
              "      <td>0.000000</td>\n",
              "      <td>0.045455</td>\n",
              "      <td>0.000000</td>\n",
              "      <td>0.045455</td>\n",
              "      <td>0.0</td>\n",
              "      <td>0.000000</td>\n",
              "      <td>0.000000</td>\n",
              "      <td>0.0</td>\n",
              "      <td>0.000000</td>\n",
              "      <td>0.0</td>\n",
              "      <td>0.0</td>\n",
              "      <td>0.000000</td>\n",
              "      <td>0.0</td>\n",
              "      <td>0.000000</td>\n",
              "      <td>0.0</td>\n",
              "      <td>0.000000</td>\n",
              "      <td>0.0</td>\n",
              "      <td>0.090909</td>\n",
              "      <td>0.000000</td>\n",
              "      <td>0.000000</td>\n",
              "      <td>...</td>\n",
              "      <td>0.0</td>\n",
              "      <td>0.000000</td>\n",
              "      <td>0.000000</td>\n",
              "      <td>0.0</td>\n",
              "      <td>0.000000</td>\n",
              "      <td>0.000000</td>\n",
              "      <td>0.0</td>\n",
              "      <td>0.0</td>\n",
              "      <td>0.0</td>\n",
              "      <td>0.0</td>\n",
              "      <td>0.0</td>\n",
              "      <td>0.000000</td>\n",
              "      <td>0.0</td>\n",
              "      <td>0.000000</td>\n",
              "      <td>0.0</td>\n",
              "      <td>0.045455</td>\n",
              "      <td>0.0</td>\n",
              "      <td>0.000000</td>\n",
              "      <td>0.0</td>\n",
              "      <td>0.0</td>\n",
              "      <td>0.000000</td>\n",
              "      <td>0.0</td>\n",
              "      <td>0.0</td>\n",
              "      <td>0.000000</td>\n",
              "      <td>0.0</td>\n",
              "      <td>0.0</td>\n",
              "      <td>0.0</td>\n",
              "      <td>0.0</td>\n",
              "      <td>0.000000</td>\n",
              "      <td>0.0</td>\n",
              "      <td>0.0</td>\n",
              "      <td>0.0</td>\n",
              "      <td>0.0</td>\n",
              "      <td>0.0</td>\n",
              "      <td>0.0</td>\n",
              "      <td>0.000000</td>\n",
              "      <td>0.0</td>\n",
              "      <td>0.0</td>\n",
              "      <td>0.000000</td>\n",
              "      <td>0.0</td>\n",
              "    </tr>\n",
              "    <tr>\n",
              "      <th>2</th>\n",
              "      <td>Business reply mail Processing Centre, South C...</td>\n",
              "      <td>0.058824</td>\n",
              "      <td>0.0</td>\n",
              "      <td>0.000000</td>\n",
              "      <td>0.000000</td>\n",
              "      <td>0.000000</td>\n",
              "      <td>0.000000</td>\n",
              "      <td>0.000000</td>\n",
              "      <td>0.000000</td>\n",
              "      <td>0.0</td>\n",
              "      <td>0.0</td>\n",
              "      <td>0.0</td>\n",
              "      <td>0.000000</td>\n",
              "      <td>0.000000</td>\n",
              "      <td>0.0</td>\n",
              "      <td>0.0</td>\n",
              "      <td>0.0</td>\n",
              "      <td>0.058824</td>\n",
              "      <td>0.0</td>\n",
              "      <td>0.0</td>\n",
              "      <td>0.000000</td>\n",
              "      <td>0.000000</td>\n",
              "      <td>0.000000</td>\n",
              "      <td>0.000000</td>\n",
              "      <td>0.0</td>\n",
              "      <td>0.000000</td>\n",
              "      <td>0.000000</td>\n",
              "      <td>0.0</td>\n",
              "      <td>0.000000</td>\n",
              "      <td>0.0</td>\n",
              "      <td>0.0</td>\n",
              "      <td>0.000000</td>\n",
              "      <td>0.0</td>\n",
              "      <td>0.000000</td>\n",
              "      <td>0.0</td>\n",
              "      <td>0.000000</td>\n",
              "      <td>0.0</td>\n",
              "      <td>0.000000</td>\n",
              "      <td>0.058824</td>\n",
              "      <td>0.000000</td>\n",
              "      <td>...</td>\n",
              "      <td>0.0</td>\n",
              "      <td>0.000000</td>\n",
              "      <td>0.000000</td>\n",
              "      <td>0.0</td>\n",
              "      <td>0.000000</td>\n",
              "      <td>0.058824</td>\n",
              "      <td>0.0</td>\n",
              "      <td>0.0</td>\n",
              "      <td>0.0</td>\n",
              "      <td>0.0</td>\n",
              "      <td>0.0</td>\n",
              "      <td>0.000000</td>\n",
              "      <td>0.0</td>\n",
              "      <td>0.000000</td>\n",
              "      <td>0.0</td>\n",
              "      <td>0.000000</td>\n",
              "      <td>0.0</td>\n",
              "      <td>0.000000</td>\n",
              "      <td>0.0</td>\n",
              "      <td>0.0</td>\n",
              "      <td>0.000000</td>\n",
              "      <td>0.0</td>\n",
              "      <td>0.0</td>\n",
              "      <td>0.000000</td>\n",
              "      <td>0.0</td>\n",
              "      <td>0.0</td>\n",
              "      <td>0.0</td>\n",
              "      <td>0.0</td>\n",
              "      <td>0.000000</td>\n",
              "      <td>0.0</td>\n",
              "      <td>0.0</td>\n",
              "      <td>0.0</td>\n",
              "      <td>0.0</td>\n",
              "      <td>0.0</td>\n",
              "      <td>0.0</td>\n",
              "      <td>0.000000</td>\n",
              "      <td>0.0</td>\n",
              "      <td>0.0</td>\n",
              "      <td>0.000000</td>\n",
              "      <td>0.0</td>\n",
              "    </tr>\n",
              "    <tr>\n",
              "      <th>3</th>\n",
              "      <td>CN Tower, King and Spadina, Railway Lands, Har...</td>\n",
              "      <td>0.000000</td>\n",
              "      <td>0.0</td>\n",
              "      <td>0.058824</td>\n",
              "      <td>0.058824</td>\n",
              "      <td>0.058824</td>\n",
              "      <td>0.117647</td>\n",
              "      <td>0.117647</td>\n",
              "      <td>0.117647</td>\n",
              "      <td>0.0</td>\n",
              "      <td>0.0</td>\n",
              "      <td>0.0</td>\n",
              "      <td>0.000000</td>\n",
              "      <td>0.000000</td>\n",
              "      <td>0.0</td>\n",
              "      <td>0.0</td>\n",
              "      <td>0.0</td>\n",
              "      <td>0.000000</td>\n",
              "      <td>0.0</td>\n",
              "      <td>0.0</td>\n",
              "      <td>0.000000</td>\n",
              "      <td>0.000000</td>\n",
              "      <td>0.000000</td>\n",
              "      <td>0.058824</td>\n",
              "      <td>0.0</td>\n",
              "      <td>0.000000</td>\n",
              "      <td>0.000000</td>\n",
              "      <td>0.0</td>\n",
              "      <td>0.000000</td>\n",
              "      <td>0.0</td>\n",
              "      <td>0.0</td>\n",
              "      <td>0.000000</td>\n",
              "      <td>0.0</td>\n",
              "      <td>0.058824</td>\n",
              "      <td>0.0</td>\n",
              "      <td>0.058824</td>\n",
              "      <td>0.0</td>\n",
              "      <td>0.000000</td>\n",
              "      <td>0.000000</td>\n",
              "      <td>0.000000</td>\n",
              "      <td>...</td>\n",
              "      <td>0.0</td>\n",
              "      <td>0.058824</td>\n",
              "      <td>0.000000</td>\n",
              "      <td>0.0</td>\n",
              "      <td>0.000000</td>\n",
              "      <td>0.000000</td>\n",
              "      <td>0.0</td>\n",
              "      <td>0.0</td>\n",
              "      <td>0.0</td>\n",
              "      <td>0.0</td>\n",
              "      <td>0.0</td>\n",
              "      <td>0.000000</td>\n",
              "      <td>0.0</td>\n",
              "      <td>0.000000</td>\n",
              "      <td>0.0</td>\n",
              "      <td>0.000000</td>\n",
              "      <td>0.0</td>\n",
              "      <td>0.000000</td>\n",
              "      <td>0.0</td>\n",
              "      <td>0.0</td>\n",
              "      <td>0.000000</td>\n",
              "      <td>0.0</td>\n",
              "      <td>0.0</td>\n",
              "      <td>0.000000</td>\n",
              "      <td>0.0</td>\n",
              "      <td>0.0</td>\n",
              "      <td>0.0</td>\n",
              "      <td>0.0</td>\n",
              "      <td>0.000000</td>\n",
              "      <td>0.0</td>\n",
              "      <td>0.0</td>\n",
              "      <td>0.0</td>\n",
              "      <td>0.0</td>\n",
              "      <td>0.0</td>\n",
              "      <td>0.0</td>\n",
              "      <td>0.000000</td>\n",
              "      <td>0.0</td>\n",
              "      <td>0.0</td>\n",
              "      <td>0.000000</td>\n",
              "      <td>0.0</td>\n",
              "    </tr>\n",
              "    <tr>\n",
              "      <th>4</th>\n",
              "      <td>Central Bay Street</td>\n",
              "      <td>0.015873</td>\n",
              "      <td>0.0</td>\n",
              "      <td>0.000000</td>\n",
              "      <td>0.000000</td>\n",
              "      <td>0.000000</td>\n",
              "      <td>0.000000</td>\n",
              "      <td>0.000000</td>\n",
              "      <td>0.000000</td>\n",
              "      <td>0.0</td>\n",
              "      <td>0.0</td>\n",
              "      <td>0.0</td>\n",
              "      <td>0.000000</td>\n",
              "      <td>0.015873</td>\n",
              "      <td>0.0</td>\n",
              "      <td>0.0</td>\n",
              "      <td>0.0</td>\n",
              "      <td>0.000000</td>\n",
              "      <td>0.0</td>\n",
              "      <td>0.0</td>\n",
              "      <td>0.000000</td>\n",
              "      <td>0.000000</td>\n",
              "      <td>0.015873</td>\n",
              "      <td>0.000000</td>\n",
              "      <td>0.0</td>\n",
              "      <td>0.000000</td>\n",
              "      <td>0.000000</td>\n",
              "      <td>0.0</td>\n",
              "      <td>0.000000</td>\n",
              "      <td>0.0</td>\n",
              "      <td>0.0</td>\n",
              "      <td>0.000000</td>\n",
              "      <td>0.0</td>\n",
              "      <td>0.000000</td>\n",
              "      <td>0.0</td>\n",
              "      <td>0.000000</td>\n",
              "      <td>0.0</td>\n",
              "      <td>0.000000</td>\n",
              "      <td>0.000000</td>\n",
              "      <td>0.031746</td>\n",
              "      <td>...</td>\n",
              "      <td>0.0</td>\n",
              "      <td>0.000000</td>\n",
              "      <td>0.015873</td>\n",
              "      <td>0.0</td>\n",
              "      <td>0.000000</td>\n",
              "      <td>0.000000</td>\n",
              "      <td>0.0</td>\n",
              "      <td>0.0</td>\n",
              "      <td>0.0</td>\n",
              "      <td>0.0</td>\n",
              "      <td>0.0</td>\n",
              "      <td>0.015873</td>\n",
              "      <td>0.0</td>\n",
              "      <td>0.000000</td>\n",
              "      <td>0.0</td>\n",
              "      <td>0.000000</td>\n",
              "      <td>0.0</td>\n",
              "      <td>0.000000</td>\n",
              "      <td>0.0</td>\n",
              "      <td>0.0</td>\n",
              "      <td>0.015873</td>\n",
              "      <td>0.0</td>\n",
              "      <td>0.0</td>\n",
              "      <td>0.000000</td>\n",
              "      <td>0.0</td>\n",
              "      <td>0.0</td>\n",
              "      <td>0.0</td>\n",
              "      <td>0.0</td>\n",
              "      <td>0.031746</td>\n",
              "      <td>0.0</td>\n",
              "      <td>0.0</td>\n",
              "      <td>0.0</td>\n",
              "      <td>0.0</td>\n",
              "      <td>0.0</td>\n",
              "      <td>0.0</td>\n",
              "      <td>0.015873</td>\n",
              "      <td>0.0</td>\n",
              "      <td>0.0</td>\n",
              "      <td>0.015873</td>\n",
              "      <td>0.0</td>\n",
              "    </tr>\n",
              "  </tbody>\n",
              "</table>\n",
              "<p>5 rows × 236 columns</p>\n",
              "</div>"
            ],
            "text/plain": [
              "                                        Neighborhood  ...  Wine Shop\n",
              "0                                        Berczy Park  ...        0.0\n",
              "1       Brockton, Parkdale Village, Exhibition Place  ...        0.0\n",
              "2  Business reply mail Processing Centre, South C...  ...        0.0\n",
              "3  CN Tower, King and Spadina, Railway Lands, Har...  ...        0.0\n",
              "4                                 Central Bay Street  ...        0.0\n",
              "\n",
              "[5 rows x 236 columns]"
            ]
          },
          "metadata": {
            "tags": []
          },
          "execution_count": 90
        }
      ]
    },
    {
      "cell_type": "markdown",
      "metadata": {
        "id": "yJA8hxvDEs_F"
      },
      "source": [
        "Define a function to limit the number of most common venues per hood"
      ]
    },
    {
      "cell_type": "code",
      "metadata": {
        "id": "Tbh1oHGT3oBo"
      },
      "source": [
        "def return_most_common_venues(row, num_top_venues):\n",
        "    row_categories = row.iloc[1:]\n",
        "    row_categories_sorted = row_categories.sort_values(ascending=False)\n",
        "    return row_categories_sorted.index.values[0:num_top_venues]"
      ],
      "execution_count": 91,
      "outputs": []
    },
    {
      "cell_type": "markdown",
      "metadata": {
        "id": "dWzozy2RE44S"
      },
      "source": [
        "* Choose a number of top venues (5)\n",
        "* Choose a number of clusters (5)\n",
        "* Create a new df with generic column titles for \"top venues\"\n",
        "* Limit the top venues for each hood and populate them into the new df\n",
        "* run clustering\n",
        "* insert the cluster labels back into the neighborhood df"
      ]
    },
    {
      "cell_type": "code",
      "metadata": {
        "id": "PIFBP1EQ3ppc"
      },
      "source": [
        "num_top_venues = 5\n",
        "n_clusters = 5\n",
        "columns = ['Neighborhood']\n",
        "for ind in np.arange(num_top_venues):\n",
        "    columns.append('{} Most Common Venue'.format(ind+1))\n",
        "neighborhoods_venues_sorted = pd.DataFrame(columns=columns)\n",
        "neighborhoods_venues_sorted['Neighborhood'] = grouped['Neighborhood']\n",
        "for ind in np.arange(grouped.shape[0]):\n",
        "    neighborhoods_venues_sorted.iloc[ind, 1:] = return_most_common_venues(grouped.iloc[ind, :], num_top_venues)\n",
        "grouped_clustering = grouped.drop('Neighborhood', 1)\n",
        "kmeans = KMeans(n_clusters=n_clusters, random_state=0).fit(grouped_clustering)#fit clusters\n",
        "neighborhoods_venues_sorted.insert(0, 'Cluster Labels', kmeans.labels_)"
      ],
      "execution_count": 92,
      "outputs": []
    },
    {
      "cell_type": "markdown",
      "metadata": {
        "id": "1OdGohhkFhNb"
      },
      "source": [
        "* Merge this new sorted venues df back into the original df so we have lat/long, etc.\n",
        "* see if it looks right"
      ]
    },
    {
      "cell_type": "code",
      "metadata": {
        "colab": {
          "base_uri": "https://localhost:8080/",
          "height": 289
        },
        "id": "winhR5tw3QuH",
        "outputId": "405ac978-2ce1-426b-b2ce-ff5499e31d27"
      },
      "source": [
        "merged = df\n",
        "merged = merged.join(neighborhoods_venues_sorted.set_index('Neighborhood'), on='Neighborhood')\n",
        "merged.head()"
      ],
      "execution_count": 93,
      "outputs": [
        {
          "output_type": "execute_result",
          "data": {
            "text/html": [
              "<div>\n",
              "<style scoped>\n",
              "    .dataframe tbody tr th:only-of-type {\n",
              "        vertical-align: middle;\n",
              "    }\n",
              "\n",
              "    .dataframe tbody tr th {\n",
              "        vertical-align: top;\n",
              "    }\n",
              "\n",
              "    .dataframe thead th {\n",
              "        text-align: right;\n",
              "    }\n",
              "</style>\n",
              "<table border=\"1\" class=\"dataframe\">\n",
              "  <thead>\n",
              "    <tr style=\"text-align: right;\">\n",
              "      <th></th>\n",
              "      <th>Postal Code</th>\n",
              "      <th>Borough</th>\n",
              "      <th>Neighborhood</th>\n",
              "      <th>Latitude</th>\n",
              "      <th>Longitude</th>\n",
              "      <th>Cluster Labels</th>\n",
              "      <th>1 Most Common Venue</th>\n",
              "      <th>2 Most Common Venue</th>\n",
              "      <th>3 Most Common Venue</th>\n",
              "      <th>4 Most Common Venue</th>\n",
              "      <th>5 Most Common Venue</th>\n",
              "    </tr>\n",
              "  </thead>\n",
              "  <tbody>\n",
              "    <tr>\n",
              "      <th>2</th>\n",
              "      <td>M5A</td>\n",
              "      <td>Downtown Toronto</td>\n",
              "      <td>Regent Park, Harbourfront</td>\n",
              "      <td>43.654260</td>\n",
              "      <td>-79.360636</td>\n",
              "      <td>1</td>\n",
              "      <td>Coffee Shop</td>\n",
              "      <td>Bakery</td>\n",
              "      <td>Park</td>\n",
              "      <td>Café</td>\n",
              "      <td>Pub</td>\n",
              "    </tr>\n",
              "    <tr>\n",
              "      <th>4</th>\n",
              "      <td>M7A</td>\n",
              "      <td>Downtown Toronto</td>\n",
              "      <td>Queen's Park, Ontario Provincial Government</td>\n",
              "      <td>43.662301</td>\n",
              "      <td>-79.389494</td>\n",
              "      <td>1</td>\n",
              "      <td>Coffee Shop</td>\n",
              "      <td>Sushi Restaurant</td>\n",
              "      <td>Yoga Studio</td>\n",
              "      <td>Bank</td>\n",
              "      <td>Beer Bar</td>\n",
              "    </tr>\n",
              "    <tr>\n",
              "      <th>9</th>\n",
              "      <td>M5B</td>\n",
              "      <td>Downtown Toronto</td>\n",
              "      <td>Garden District, Ryerson</td>\n",
              "      <td>43.657162</td>\n",
              "      <td>-79.378937</td>\n",
              "      <td>1</td>\n",
              "      <td>Coffee Shop</td>\n",
              "      <td>Clothing Store</td>\n",
              "      <td>Café</td>\n",
              "      <td>Bubble Tea Shop</td>\n",
              "      <td>Hotel</td>\n",
              "    </tr>\n",
              "    <tr>\n",
              "      <th>15</th>\n",
              "      <td>M5C</td>\n",
              "      <td>Downtown Toronto</td>\n",
              "      <td>St. James Town</td>\n",
              "      <td>43.651494</td>\n",
              "      <td>-79.375418</td>\n",
              "      <td>1</td>\n",
              "      <td>Coffee Shop</td>\n",
              "      <td>Café</td>\n",
              "      <td>Cocktail Bar</td>\n",
              "      <td>American Restaurant</td>\n",
              "      <td>Gym</td>\n",
              "    </tr>\n",
              "    <tr>\n",
              "      <th>19</th>\n",
              "      <td>M4E</td>\n",
              "      <td>East Toronto</td>\n",
              "      <td>The Beaches</td>\n",
              "      <td>43.676357</td>\n",
              "      <td>-79.293031</td>\n",
              "      <td>3</td>\n",
              "      <td>Pub</td>\n",
              "      <td>Health Food Store</td>\n",
              "      <td>Trail</td>\n",
              "      <td>Wine Shop</td>\n",
              "      <td>Dog Run</td>\n",
              "    </tr>\n",
              "  </tbody>\n",
              "</table>\n",
              "</div>"
            ],
            "text/plain": [
              "   Postal Code           Borough  ...  4 Most Common Venue  5 Most Common Venue\n",
              "2          M5A  Downtown Toronto  ...                 Café                  Pub\n",
              "4          M7A  Downtown Toronto  ...                 Bank             Beer Bar\n",
              "9          M5B  Downtown Toronto  ...      Bubble Tea Shop                Hotel\n",
              "15         M5C  Downtown Toronto  ...  American Restaurant                  Gym\n",
              "19         M4E      East Toronto  ...            Wine Shop              Dog Run\n",
              "\n",
              "[5 rows x 11 columns]"
            ]
          },
          "metadata": {
            "tags": []
          },
          "execution_count": 93
        }
      ]
    },
    {
      "cell_type": "markdown",
      "metadata": {
        "id": "XBlZhhhFF8dm"
      },
      "source": [
        "Plot it on a map!  Cluster 1 is very common.  \n",
        "**Note:** map does not show up in github.  Click [here](https://colab.research.google.com/drive/1e8Nys-FYMJgIsP5F4lgbA0JLfCH_T6Qw?usp=sharing) for colab version with map."
      ]
    },
    {
      "cell_type": "code",
      "metadata": {
        "colab": {
          "base_uri": "https://localhost:8080/",
          "height": 952
        },
        "id": "SmV39-xm3_4b",
        "outputId": "2a859948-4fe1-4fa1-f70a-1a2f3ad2371e"
      },
      "source": [
        "geolocator = Nominatim(user_agent='explorer')\n",
        "location = geolocator.geocode('Toronto, Ontario')\n",
        "latitude = location.latitude\n",
        "longitude = location.longitude\n",
        "map_clusters = folium.Map(location=[latitude, longitude], zoom_start=12)\n",
        "import matplotlib.cm as cm\n",
        "import matplotlib.colors as colors\n",
        "x = np.arange(n_clusters)\n",
        "ys = [i + x + (i*x)**2 for i in range(n_clusters)]\n",
        "colors_array = cm.rainbow(np.linspace(0, 1, len(ys)))\n",
        "rainbow = [colors.rgb2hex(i) for i in colors_array]\n",
        "for lat, lon, poi, cluster in zip(merged['Latitude'], merged['Longitude'], merged['Neighborhood'], merged['Cluster Labels']):\n",
        "    label = folium.Popup(str(poi) + ' Cluster ' + str(cluster), parse_html=True)\n",
        "    folium.CircleMarker([lat, lon], radius=5, popup=label, color=rainbow[cluster-1], fill=True, fill_color=rainbow[cluster-1], fill_opacity=0.7).add_to(map_clusters)\n",
        "map_clusters"
      ],
      "execution_count": 94,
      "outputs": [
        {
          "output_type": "execute_result",
          "data": {
            "text/html": [
              "<div style=\"width:100%;\"><div style=\"position:relative;width:100%;height:0;padding-bottom:60%;\"><span style=\"color:#565656\">Make this Notebook Trusted to load map: File -> Trust Notebook</span><iframe src=\"about:blank\" style=\"position:absolute;width:100%;height:100%;left:0;top:0;border:none !important;\" data-html=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 onload=\"this.contentDocument.open();this.contentDocument.write(atob(this.getAttribute('data-html')));this.contentDocument.close();\" allowfullscreen webkitallowfullscreen mozallowfullscreen></iframe></div></div>"
            ],
            "text/plain": [
              "<folium.folium.Map at 0x7fdf8408e0b8>"
            ]
          },
          "metadata": {
            "tags": []
          },
          "execution_count": 94
        }
      ]
    },
    {
      "cell_type": "markdown",
      "metadata": {
        "id": "mCV5ybdJGG37"
      },
      "source": [
        "For good measure, print out the most common \"top\" venues in each hood to get a feel for them.  \n",
        "* **Cluster 0 (red):** Grocery / park, kind of suburban\n",
        "* **Cluster 1 (purple):** Shops, cafe's, restaurants... downtown vibe\n",
        "* **Cluster 2 (blue):** Upscale, sushi, wine\n",
        "* **Cluster 3 (teal):** Trendy with variety of cuisines\n",
        "* **Cluster 4 (orange):** Different type of suburban (dog run, etc.)"
      ]
    },
    {
      "cell_type": "code",
      "metadata": {
        "colab": {
          "base_uri": "https://localhost:8080/"
        },
        "id": "YvEXyuhO9j1i",
        "outputId": "94fe50b0-f720-4503-8c0b-6233a838dee5"
      },
      "source": [
        "for i in merged['Cluster Labels'].unique():\n",
        "  print('Top venues in cluster '+str(i)+' are:')\n",
        "  print(merged[merged['Cluster Labels'] == i].iloc[:, 6:].describe(include='all').loc['top'])"
      ],
      "execution_count": 95,
      "outputs": [
        {
          "output_type": "stream",
          "text": [
            "Top venues in cluster 1 are:\n",
            "1 Most Common Venue    Coffee Shop\n",
            "2 Most Common Venue           Café\n",
            "3 Most Common Venue           Café\n",
            "4 Most Common Venue     Restaurant\n",
            "5 Most Common Venue            Pub\n",
            "Name: top, dtype: object\n",
            "Top venues in cluster 3 are:\n",
            "1 Most Common Venue        Business Service\n",
            "2 Most Common Venue       Health Food Store\n",
            "3 Most Common Venue                   Trail\n",
            "4 Most Common Venue           Deli / Bodega\n",
            "5 Most Common Venue    Ethiopian Restaurant\n",
            "Name: top, dtype: object\n",
            "Top venues in cluster 0 are:\n",
            "1 Most Common Venue             Grocery Store\n",
            "2 Most Common Venue               Coffee Shop\n",
            "3 Most Common Venue                      Park\n",
            "4 Most Common Venue             Grocery Store\n",
            "5 Most Common Venue    Furniture / Home Store\n",
            "Name: top, dtype: object\n",
            "Top venues in cluster 4 are:\n",
            "1 Most Common Venue      Home Service\n",
            "2 Most Common Venue    Ice Cream Shop\n",
            "3 Most Common Venue            Garden\n",
            "4 Most Common Venue           Dog Run\n",
            "5 Most Common Venue      Dessert Shop\n",
            "Name: top, dtype: object\n",
            "Top venues in cluster 2 are:\n",
            "1 Most Common Venue            Bus Line\n",
            "2 Most Common Venue               Trail\n",
            "3 Most Common Venue       Jewelry Store\n",
            "4 Most Common Venue    Sushi Restaurant\n",
            "5 Most Common Venue           Wine Shop\n",
            "Name: top, dtype: object\n"
          ],
          "name": "stdout"
        }
      ]
    }
  ]
}